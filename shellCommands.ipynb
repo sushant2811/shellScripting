{
 "cells": [
  {
   "cell_type": "markdown",
   "metadata": {},
   "source": [
    "## Ref.: Datacamp"
   ]
  },
  {
   "cell_type": "markdown",
   "metadata": {},
   "source": [
    "The name shell comes from the notion that it is the outer shell of the computer. "
   ]
  },
  {
   "cell_type": "markdown",
   "metadata": {},
   "source": [
    "print working directory"
   ]
  },
  {
   "cell_type": "code",
   "execution_count": 1,
   "metadata": {},
   "outputs": [
    {
     "name": "stdout",
     "output_type": "stream",
     "text": [
      "/Users/sushantmore/Documents/DS/projects/shellScripting\r\n"
     ]
    }
   ],
   "source": [
    "!pwd"
   ]
  },
  {
   "cell_type": "code",
   "execution_count": 3,
   "metadata": {},
   "outputs": [
    {
     "name": "stdout",
     "output_type": "stream",
     "text": [
      "sushantmore\r\n"
     ]
    }
   ],
   "source": [
    "#who the computer thinks you are. \n",
    "!whoami"
   ]
  },
  {
   "cell_type": "code",
   "execution_count": 4,
   "metadata": {},
   "outputs": [
    {
     "name": "stdout",
     "output_type": "stream",
     "text": [
      "uid=501(sushantmore) gid=20(staff) groups=20(staff),12(everyone),61(localaccounts),79(_appserverusr),80(admin),81(_appserveradm),98(_lpadmin),701(1),33(_appstore),100(_lpoperator),204(_developer),250(_analyticsusers),395(com.apple.access_ftp),398(com.apple.access_screensharing),399(com.apple.access_ssh)\r\n"
     ]
    }
   ],
   "source": [
    "!whoamI"
   ]
  },
  {
   "cell_type": "code",
   "execution_count": 6,
   "metadata": {},
   "outputs": [
    {
     "name": "stdout",
     "output_type": "stream",
     "text": [
      "README.md           shellCommands.ipynb\r\n"
     ]
    }
   ],
   "source": [
    "# short for listing\n",
    "!ls"
   ]
  },
  {
   "cell_type": "code",
   "execution_count": 9,
   "metadata": {},
   "outputs": [
    {
     "name": "stdout",
     "output_type": "stream",
     "text": [
      "README.md\r\n"
     ]
    }
   ],
   "source": [
    "!ls README.md"
   ]
  },
  {
   "cell_type": "code",
   "execution_count": 10,
   "metadata": {},
   "outputs": [
    {
     "name": "stdout",
     "output_type": "stream",
     "text": [
      "\u001b[30m\u001b[43mC++\u001b[m\u001b[m                      \u001b[30m\u001b[43mKaggleHousingPrices\u001b[m\u001b[m      \u001b[30m\u001b[43mSQL101-202\u001b[m\u001b[m\r\n",
      "\u001b[30m\u001b[43mCreditCardFraudDetection\u001b[m\u001b[m \u001b[30m\u001b[43mKaggleTitanic\u001b[m\u001b[m            \u001b[30m\u001b[43mSchoolBudgetData\u001b[m\u001b[m\r\n",
      "\u001b[30m\u001b[43mHadoopExploration\u001b[m\u001b[m        \u001b[30m\u001b[43mNYCsubwayData\u001b[m\u001b[m            \u001b[30m\u001b[43mTimeSeriesAnalysis\u001b[m\u001b[m\r\n",
      "\u001b[30m\u001b[43mHadoopForumData\u001b[m\u001b[m          \u001b[34mNetworkAnalysis\u001b[m\u001b[m          \u001b[30m\u001b[43mprogramming\u001b[m\u001b[m\r\n",
      "\u001b[30m\u001b[43mImportingAndCleaningData\u001b[m\u001b[m \u001b[30m\u001b[43mObjectOrientedPython\u001b[m\u001b[m     \u001b[34mpythonAndStatsForDS\u001b[m\u001b[m\r\n",
      "\u001b[30m\u001b[43mKaggleDigitRecognizer\u001b[m\u001b[m    \u001b[30m\u001b[43mPandas\u001b[m\u001b[m                   \u001b[34mshellScripting\u001b[m\u001b[m\r\n"
     ]
    }
   ],
   "source": [
    "!ls /Users/sushantmore/Documents/DS/projects/"
   ]
  },
  {
   "cell_type": "code",
   "execution_count": 19,
   "metadata": {},
   "outputs": [
    {
     "name": "stdout",
     "output_type": "stream",
     "text": [
      "\u001b[31mIntro_to_SQL_certificate.pdf\u001b[m\u001b[m   \u001b[31mSQL101.sql~\u001b[m\u001b[m\r\n",
      "\u001b[31mJoining_data_in_postgreSQL.pdf\u001b[m\u001b[m \u001b[31mSQL202.sql\u001b[m\u001b[m\r\n",
      "\u001b[31mREADME.md\u001b[m\u001b[m                      \u001b[31mSQL202.sql~\u001b[m\u001b[m\r\n",
      "\u001b[31mSQL101.sql\u001b[m\u001b[m\r\n"
     ]
    }
   ],
   "source": [
    "!ls /Users/sushantmore/Documents/DS/projects/SQL101-202/"
   ]
  },
  {
   "cell_type": "markdown",
   "metadata": {},
   "source": [
    "\"The shell can tell whether a path is absolute or relative by looking at its first character. If the path begins with /, it is absolute; if it doesn't, it is relative\""
   ]
  },
  {
   "cell_type": "code",
   "execution_count": 20,
   "metadata": {},
   "outputs": [
    {
     "name": "stdout",
     "output_type": "stream",
     "text": [
      "README.md            \u001b[34mdata\u001b[m\u001b[m/                shellCommands.ipynb\r\n"
     ]
    }
   ],
   "source": [
    "ls"
   ]
  },
  {
   "cell_type": "code",
   "execution_count": 21,
   "metadata": {},
   "outputs": [
    {
     "name": "stdout",
     "output_type": "stream",
     "text": [
      "/Users/sushantmore/Documents/DS/projects/shellScripting/data\n"
     ]
    }
   ],
   "source": [
    "cd data/"
   ]
  },
  {
   "cell_type": "code",
   "execution_count": 22,
   "metadata": {},
   "outputs": [
    {
     "data": {
      "text/plain": [
       "'/Users/sushantmore/Documents/DS/projects/shellScripting/data'"
      ]
     },
     "execution_count": 22,
     "metadata": {},
     "output_type": "execute_result"
    }
   ],
   "source": [
    "pwd"
   ]
  },
  {
   "cell_type": "code",
   "execution_count": 23,
   "metadata": {},
   "outputs": [
    {
     "name": "stdout",
     "output_type": "stream",
     "text": [
      "/Users/sushantmore/Documents/DS/projects/shellScripting\n"
     ]
    }
   ],
   "source": [
    "cd ../"
   ]
  },
  {
   "cell_type": "code",
   "execution_count": 24,
   "metadata": {},
   "outputs": [
    {
     "data": {
      "text/plain": [
       "'/Users/sushantmore/Documents/DS/projects/shellScripting'"
      ]
     },
     "execution_count": 24,
     "metadata": {},
     "output_type": "execute_result"
    }
   ],
   "source": [
    "pwd"
   ]
  },
  {
   "cell_type": "code",
   "execution_count": 25,
   "metadata": {},
   "outputs": [
    {
     "name": "stdout",
     "output_type": "stream",
     "text": [
      "/Users/sushantmore/Documents\n"
     ]
    }
   ],
   "source": [
    "cd ../../../"
   ]
  },
  {
   "cell_type": "code",
   "execution_count": 26,
   "metadata": {},
   "outputs": [
    {
     "data": {
      "text/plain": [
       "'/Users/sushantmore/Documents'"
      ]
     },
     "execution_count": 26,
     "metadata": {},
     "output_type": "execute_result"
    }
   ],
   "source": [
    "pwd"
   ]
  },
  {
   "cell_type": "markdown",
   "metadata": {},
   "source": [
    "Root directory is at the very top of the file system"
   ]
  },
  {
   "cell_type": "code",
   "execution_count": 28,
   "metadata": {},
   "outputs": [
    {
     "name": "stdout",
     "output_type": "stream",
     "text": [
      "[Errno 2] No such file or directory: '/DS'\n",
      "/Users/sushantmore/Documents\n"
     ]
    }
   ],
   "source": [
    "cd /DS"
   ]
  },
  {
   "cell_type": "code",
   "execution_count": 29,
   "metadata": {},
   "outputs": [
    {
     "name": "stdout",
     "output_type": "stream",
     "text": [
      "/Users/sushantmore/Documents/DS/projects\n"
     ]
    }
   ],
   "source": [
    "cd DS/projects/"
   ]
  },
  {
   "cell_type": "code",
   "execution_count": 32,
   "metadata": {},
   "outputs": [
    {
     "data": {
      "text/plain": [
       "'/Users/sushantmore/Documents/DS/projects'"
      ]
     },
     "execution_count": 32,
     "metadata": {},
     "output_type": "execute_result"
    }
   ],
   "source": [
    "pwd"
   ]
  },
  {
   "cell_type": "code",
   "execution_count": 33,
   "metadata": {},
   "outputs": [
    {
     "name": "stdout",
     "output_type": "stream",
     "text": [
      "\u001b[30m\u001b[43mC++\u001b[m\u001b[m/                      \u001b[30m\u001b[43mKaggleHousingPrices\u001b[m\u001b[m/      \u001b[30m\u001b[43mSQL101-202\u001b[m\u001b[m/\r\n",
      "\u001b[30m\u001b[43mCreditCardFraudDetection\u001b[m\u001b[m/ \u001b[30m\u001b[43mKaggleTitanic\u001b[m\u001b[m/            \u001b[30m\u001b[43mSchoolBudgetData\u001b[m\u001b[m/\r\n",
      "\u001b[30m\u001b[43mHadoopExploration\u001b[m\u001b[m/        \u001b[30m\u001b[43mNYCsubwayData\u001b[m\u001b[m/            \u001b[30m\u001b[43mTimeSeriesAnalysis\u001b[m\u001b[m/\r\n",
      "\u001b[30m\u001b[43mHadoopForumData\u001b[m\u001b[m/          \u001b[34mNetworkAnalysis\u001b[m\u001b[m/          \u001b[30m\u001b[43mprogramming\u001b[m\u001b[m/\r\n",
      "\u001b[30m\u001b[43mImportingAndCleaningData\u001b[m\u001b[m/ \u001b[30m\u001b[43mObjectOrientedPython\u001b[m\u001b[m/     \u001b[34mpythonAndStatsForDS\u001b[m\u001b[m/\r\n",
      "\u001b[30m\u001b[43mKaggleDigitRecognizer\u001b[m\u001b[m/    \u001b[30m\u001b[43mPandas\u001b[m\u001b[m/                   \u001b[34mshellScripting\u001b[m\u001b[m/\r\n"
     ]
    }
   ],
   "source": [
    "ls"
   ]
  },
  {
   "cell_type": "code",
   "execution_count": 35,
   "metadata": {},
   "outputs": [
    {
     "name": "stdout",
     "output_type": "stream",
     "text": [
      "\u001b[30m\u001b[43mC++\u001b[m\u001b[m/                      \u001b[30m\u001b[43mKaggleHousingPrices\u001b[m\u001b[m/      \u001b[30m\u001b[43mSQL101-202\u001b[m\u001b[m/\r\n",
      "\u001b[30m\u001b[43mCreditCardFraudDetection\u001b[m\u001b[m/ \u001b[30m\u001b[43mKaggleTitanic\u001b[m\u001b[m/            \u001b[30m\u001b[43mSchoolBudgetData\u001b[m\u001b[m/\r\n",
      "\u001b[30m\u001b[43mHadoopExploration\u001b[m\u001b[m/        \u001b[30m\u001b[43mNYCsubwayData\u001b[m\u001b[m/            \u001b[30m\u001b[43mTimeSeriesAnalysis\u001b[m\u001b[m/\r\n",
      "\u001b[30m\u001b[43mHadoopForumData\u001b[m\u001b[m/          \u001b[34mNetworkAnalysis\u001b[m\u001b[m/          \u001b[30m\u001b[43mprogramming\u001b[m\u001b[m/\r\n",
      "\u001b[30m\u001b[43mImportingAndCleaningData\u001b[m\u001b[m/ \u001b[30m\u001b[43mObjectOrientedPython\u001b[m\u001b[m/     \u001b[34mpythonAndStatsForDS\u001b[m\u001b[m/\r\n",
      "\u001b[30m\u001b[43mKaggleDigitRecognizer\u001b[m\u001b[m/    \u001b[30m\u001b[43mPandas\u001b[m\u001b[m/                   \u001b[34mshellScripting\u001b[m\u001b[m/\r\n"
     ]
    }
   ],
   "source": [
    "ls . "
   ]
  },
  {
   "cell_type": "markdown",
   "metadata": {},
   "source": [
    ". means the current directory and ~ means the home directory. No matter where you are ls ~ will list the contents of the home directory and cd ~ will take you to the home directory."
   ]
  },
  {
   "cell_type": "code",
   "execution_count": 36,
   "metadata": {},
   "outputs": [
    {
     "name": "stdout",
     "output_type": "stream",
     "text": [
      "\u001b[34mApplications\u001b[m\u001b[m/   \u001b[34mDownloads\u001b[m\u001b[m/      \u001b[34mMovies\u001b[m\u001b[m/         \u001b[34mPictures\u001b[m\u001b[m/       \u001b[34manaconda3\u001b[m\u001b[m/\r\n",
      "\u001b[34mDesktop\u001b[m\u001b[m/        \u001b[34mDropbox\u001b[m\u001b[m/        \u001b[34mMusic\u001b[m\u001b[m/          \u001b[34mPublic\u001b[m\u001b[m/\r\n",
      "\u001b[34mDocuments\u001b[m\u001b[m/      \u001b[34mLibrary\u001b[m\u001b[m/        \u001b[34mPaladinTemp\u001b[m\u001b[m/    \u001b[34mVirtualBox VMs\u001b[m\u001b[m/\r\n"
     ]
    }
   ],
   "source": [
    "ls ~"
   ]
  },
  {
   "cell_type": "code",
   "execution_count": 37,
   "metadata": {},
   "outputs": [
    {
     "name": "stdout",
     "output_type": "stream",
     "text": [
      "/Users/sushantmore\n"
     ]
    }
   ],
   "source": [
    "cd ~"
   ]
  },
  {
   "cell_type": "code",
   "execution_count": 38,
   "metadata": {},
   "outputs": [
    {
     "data": {
      "text/plain": [
       "'/Users/sushantmore'"
      ]
     },
     "execution_count": 38,
     "metadata": {},
     "output_type": "execute_result"
    }
   ],
   "source": [
    "pwd"
   ]
  },
  {
   "cell_type": "code",
   "execution_count": 39,
   "metadata": {},
   "outputs": [
    {
     "name": "stdout",
     "output_type": "stream",
     "text": [
      "/Users/sushantmore/Documents/DS/projects/C++\n"
     ]
    }
   ],
   "source": [
    "cd Documents/DS/projects/C++/"
   ]
  },
  {
   "cell_type": "code",
   "execution_count": 40,
   "metadata": {},
   "outputs": [
    {
     "data": {
      "text/plain": [
       "'/Users/sushantmore/Documents/DS/projects/C++'"
      ]
     },
     "execution_count": 40,
     "metadata": {},
     "output_type": "execute_result"
    }
   ],
   "source": [
    "pwd"
   ]
  },
  {
   "cell_type": "code",
   "execution_count": 41,
   "metadata": {},
   "outputs": [
    {
     "name": "stdout",
     "output_type": "stream",
     "text": [
      "\u001b[34mApplications\u001b[m\u001b[m/   \u001b[34mDownloads\u001b[m\u001b[m/      \u001b[34mMovies\u001b[m\u001b[m/         \u001b[34mPictures\u001b[m\u001b[m/       \u001b[34manaconda3\u001b[m\u001b[m/\r\n",
      "\u001b[34mDesktop\u001b[m\u001b[m/        \u001b[34mDropbox\u001b[m\u001b[m/        \u001b[34mMusic\u001b[m\u001b[m/          \u001b[34mPublic\u001b[m\u001b[m/\r\n",
      "\u001b[34mDocuments\u001b[m\u001b[m/      \u001b[34mLibrary\u001b[m\u001b[m/        \u001b[34mPaladinTemp\u001b[m\u001b[m/    \u001b[34mVirtualBox VMs\u001b[m\u001b[m/\r\n"
     ]
    }
   ],
   "source": [
    "ls ~"
   ]
  },
  {
   "cell_type": "markdown",
   "metadata": {},
   "source": [
    ".. takes you two directories above. "
   ]
  },
  {
   "cell_type": "code",
   "execution_count": 42,
   "metadata": {},
   "outputs": [
    {
     "name": "stdout",
     "output_type": "stream",
     "text": [
      "\u001b[30m\u001b[43mC++\u001b[m\u001b[m/                      \u001b[30m\u001b[43mKaggleHousingPrices\u001b[m\u001b[m/      \u001b[30m\u001b[43mSQL101-202\u001b[m\u001b[m/\r\n",
      "\u001b[30m\u001b[43mCreditCardFraudDetection\u001b[m\u001b[m/ \u001b[30m\u001b[43mKaggleTitanic\u001b[m\u001b[m/            \u001b[30m\u001b[43mSchoolBudgetData\u001b[m\u001b[m/\r\n",
      "\u001b[30m\u001b[43mHadoopExploration\u001b[m\u001b[m/        \u001b[30m\u001b[43mNYCsubwayData\u001b[m\u001b[m/            \u001b[30m\u001b[43mTimeSeriesAnalysis\u001b[m\u001b[m/\r\n",
      "\u001b[30m\u001b[43mHadoopForumData\u001b[m\u001b[m/          \u001b[34mNetworkAnalysis\u001b[m\u001b[m/          \u001b[30m\u001b[43mprogramming\u001b[m\u001b[m/\r\n",
      "\u001b[30m\u001b[43mImportingAndCleaningData\u001b[m\u001b[m/ \u001b[30m\u001b[43mObjectOrientedPython\u001b[m\u001b[m/     \u001b[34mpythonAndStatsForDS\u001b[m\u001b[m/\r\n",
      "\u001b[30m\u001b[43mKaggleDigitRecognizer\u001b[m\u001b[m/    \u001b[30m\u001b[43mPandas\u001b[m\u001b[m/                   \u001b[34mshellScripting\u001b[m\u001b[m/\r\n"
     ]
    }
   ],
   "source": [
    "ls .."
   ]
  },
  {
   "cell_type": "code",
   "execution_count": 43,
   "metadata": {},
   "outputs": [
    {
     "name": "stdout",
     "output_type": "stream",
     "text": [
      "\u001b[34mChuck\u001b[m\u001b[m/                  \u001b[34mRetail_data\u001b[m\u001b[m/            \u001b[34mbooks\u001b[m\u001b[m/\r\n",
      "\u001b[34mDeuteronDisintegration\u001b[m\u001b[m/ \u001b[34mRworkshop-MSU\u001b[m\u001b[m/          \u001b[34minterviewPrep\u001b[m\u001b[m/\r\n",
      "\u001b[34mHadoopUdacityCourse\u001b[m\u001b[m/    \u001b[34mTitanic\u001b[m\u001b[m/                \u001b[30m\u001b[43mprojects\u001b[m\u001b[m/\r\n",
      "\u001b[34mHudson\u001b[m\u001b[m/                 \u001b[34mUdemyCourseSpark\u001b[m\u001b[m/\r\n",
      "\u001b[34mIntroToDS-Udacity\u001b[m\u001b[m/      \u001b[34mZodiac\u001b[m\u001b[m/\r\n"
     ]
    }
   ],
   "source": [
    "ls ../../"
   ]
  },
  {
   "cell_type": "code",
   "execution_count": 44,
   "metadata": {},
   "outputs": [
    {
     "data": {
      "text/plain": [
       "'/Users/sushantmore/Documents/DS/projects/C++'"
      ]
     },
     "execution_count": 44,
     "metadata": {},
     "output_type": "execute_result"
    }
   ],
   "source": [
    "pwd"
   ]
  },
  {
   "cell_type": "code",
   "execution_count": 45,
   "metadata": {},
   "outputs": [
    {
     "name": "stdout",
     "output_type": "stream",
     "text": [
      "/Users\n"
     ]
    }
   ],
   "source": [
    "cd ~/../"
   ]
  },
  {
   "cell_type": "markdown",
   "metadata": {},
   "source": [
    "** Copying files **"
   ]
  },
  {
   "cell_type": "code",
   "execution_count": 46,
   "metadata": {},
   "outputs": [
    {
     "data": {
      "text/plain": [
       "'/Users'"
      ]
     },
     "execution_count": 46,
     "metadata": {},
     "output_type": "execute_result"
    }
   ],
   "source": [
    "pwd"
   ]
  },
  {
   "cell_type": "code",
   "execution_count": 47,
   "metadata": {},
   "outputs": [
    {
     "name": "stdout",
     "output_type": "stream",
     "text": [
      "/Users/sushantmore/Documents/DS/projects/shellScripting\n"
     ]
    }
   ],
   "source": [
    "cd sushantmore/Documents/DS/projects/shellScripting/"
   ]
  },
  {
   "cell_type": "code",
   "execution_count": 48,
   "metadata": {
    "collapsed": true
   },
   "outputs": [],
   "source": [
    "cp data/seasonal/autumn.txt data/seasonal/spring.txt"
   ]
  },
  {
   "cell_type": "code",
   "execution_count": 49,
   "metadata": {},
   "outputs": [
    {
     "name": "stdout",
     "output_type": "stream",
     "text": [
      "usage: cp [-R [-H | -L | -P]] [-fi | -n] [-apvXc] source_file target_file\r\n",
      "       cp [-R [-H | -L | -P]] [-fi | -n] [-apvXc] source_file ... target_directory\r\n"
     ]
    }
   ],
   "source": [
    "cp data/seasonal/autumn.txt data/seasonal/spring.txt data/seasonal/backup"
   ]
  },
  {
   "cell_type": "code",
   "execution_count": 50,
   "metadata": {
    "collapsed": true
   },
   "outputs": [],
   "source": [
    "mkdir data/seasonal/backup"
   ]
  },
  {
   "cell_type": "code",
   "execution_count": 51,
   "metadata": {
    "collapsed": true
   },
   "outputs": [],
   "source": [
    "cp data/seasonal/autumn.txt data/seasonal/spring.txt data/seasonal/backup"
   ]
  },
  {
   "cell_type": "markdown",
   "metadata": {},
   "source": [
    "If the backup directory already present, then the files are copied there. "
   ]
  },
  {
   "cell_type": "code",
   "execution_count": 52,
   "metadata": {},
   "outputs": [
    {
     "name": "stdout",
     "output_type": "stream",
     "text": [
      "/Users/sushantmore/Documents/DS/projects/shellScripting/data/seasonal\n"
     ]
    }
   ],
   "source": [
    "cd data/seasonal/"
   ]
  },
  {
   "cell_type": "code",
   "execution_count": 53,
   "metadata": {},
   "outputs": [
    {
     "name": "stdout",
     "output_type": "stream",
     "text": [
      "/Users/sushantmore/Documents/DS/projects/shellScripting/data\n"
     ]
    }
   ],
   "source": [
    "cd .."
   ]
  },
  {
   "cell_type": "code",
   "execution_count": 54,
   "metadata": {
    "collapsed": true
   },
   "outputs": [],
   "source": [
    "mv seasonal/winter.txt seasonal/autumn.txt .."
   ]
  },
  {
   "cell_type": "markdown",
   "metadata": {},
   "source": [
    "The above commands move the files to one directory up from the current directory."
   ]
  },
  {
   "cell_type": "code",
   "execution_count": 55,
   "metadata": {},
   "outputs": [
    {
     "name": "stdout",
     "output_type": "stream",
     "text": [
      "\u001b[34mbackup\u001b[m\u001b[m/     spring.txt\r\n"
     ]
    }
   ],
   "source": [
    "ls seasonal/"
   ]
  },
  {
   "cell_type": "code",
   "execution_count": 56,
   "metadata": {},
   "outputs": [
    {
     "name": "stdout",
     "output_type": "stream",
     "text": [
      "README.md            \u001b[34mdata\u001b[m\u001b[m/                winter.txt\r\n",
      "autumn.txt           shellCommands.ipynb\r\n"
     ]
    }
   ],
   "source": [
    "ls ../"
   ]
  },
  {
   "cell_type": "code",
   "execution_count": 57,
   "metadata": {},
   "outputs": [
    {
     "data": {
      "text/plain": [
       "'/Users/sushantmore/Documents/DS/projects/shellScripting/data'"
      ]
     },
     "execution_count": 57,
     "metadata": {},
     "output_type": "execute_result"
    }
   ],
   "source": [
    "pwd"
   ]
  },
  {
   "cell_type": "code",
   "execution_count": 58,
   "metadata": {},
   "outputs": [
    {
     "name": "stdout",
     "output_type": "stream",
     "text": [
      "\u001b[34mseasonal\u001b[m\u001b[m/\r\n"
     ]
    }
   ],
   "source": [
    "ls"
   ]
  },
  {
   "cell_type": "code",
   "execution_count": 59,
   "metadata": {},
   "outputs": [
    {
     "name": "stdout",
     "output_type": "stream",
     "text": [
      "/Users/sushantmore/Documents/DS/projects/shellScripting\n"
     ]
    }
   ],
   "source": [
    "cd .."
   ]
  },
  {
   "cell_type": "code",
   "execution_count": 60,
   "metadata": {},
   "outputs": [
    {
     "name": "stdout",
     "output_type": "stream",
     "text": [
      "README.md            \u001b[34mdata\u001b[m\u001b[m/                winter.txt\r\n",
      "autumn.txt           shellCommands.ipynb\r\n"
     ]
    }
   ],
   "source": [
    "ls"
   ]
  },
  {
   "cell_type": "code",
   "execution_count": 61,
   "metadata": {},
   "outputs": [
    {
     "data": {
      "text/plain": [
       "'/Users/sushantmore/Documents/DS/projects/shellScripting'"
      ]
     },
     "execution_count": 61,
     "metadata": {},
     "output_type": "execute_result"
    }
   ],
   "source": [
    "pwd"
   ]
  },
  {
   "cell_type": "code",
   "execution_count": 62,
   "metadata": {
    "collapsed": true
   },
   "outputs": [],
   "source": [
    "mv data/seasonal/spring.txt data/seasonal/spring2.txt"
   ]
  },
  {
   "cell_type": "markdown",
   "metadata": {},
   "source": [
    "Using mv for renaming files "
   ]
  },
  {
   "cell_type": "code",
   "execution_count": 63,
   "metadata": {},
   "outputs": [
    {
     "name": "stdout",
     "output_type": "stream",
     "text": [
      "\u001b[34mbackup\u001b[m\u001b[m/      spring2.txt\r\n"
     ]
    }
   ],
   "source": [
    "ls data/seasonal/"
   ]
  },
  {
   "cell_type": "markdown",
   "metadata": {},
   "source": [
    "Removing files"
   ]
  },
  {
   "cell_type": "code",
   "execution_count": 64,
   "metadata": {
    "collapsed": true
   },
   "outputs": [],
   "source": [
    "mkdir data/seasonal/backup2"
   ]
  },
  {
   "cell_type": "code",
   "execution_count": 70,
   "metadata": {
    "collapsed": true
   },
   "outputs": [],
   "source": [
    "cp data/seasonal/backup/* data/seasonal/backup2/"
   ]
  },
  {
   "cell_type": "code",
   "execution_count": 71,
   "metadata": {},
   "outputs": [
    {
     "name": "stdout",
     "output_type": "stream",
     "text": [
      "autumn.txt  spring.txt\r\n"
     ]
    }
   ],
   "source": [
    "ls data/seasonal/backup2/"
   ]
  },
  {
   "cell_type": "code",
   "execution_count": 72,
   "metadata": {
    "collapsed": true
   },
   "outputs": [],
   "source": [
    "rm data/seasonal/backup2/autumn.txt "
   ]
  },
  {
   "cell_type": "markdown",
   "metadata": {},
   "source": [
    "As cp and mv, rm can take multiple files as input. Also shell doesn't have a trash can. So files are deleted for good. "
   ]
  },
  {
   "cell_type": "markdown",
   "metadata": {},
   "source": [
    "** Creating and deleting directories ** "
   ]
  },
  {
   "cell_type": "code",
   "execution_count": 73,
   "metadata": {},
   "outputs": [
    {
     "data": {
      "text/plain": [
       "'/Users/sushantmore/Documents/DS/projects/shellScripting'"
      ]
     },
     "execution_count": 73,
     "metadata": {},
     "output_type": "execute_result"
    }
   ],
   "source": [
    "pwd"
   ]
  },
  {
   "cell_type": "code",
   "execution_count": 74,
   "metadata": {
    "collapsed": true
   },
   "outputs": [],
   "source": [
    "mv data/seasonal/ data/seasonal2/"
   ]
  },
  {
   "cell_type": "code",
   "execution_count": 75,
   "metadata": {},
   "outputs": [
    {
     "name": "stdout",
     "output_type": "stream",
     "text": [
      "\u001b[34mseasonal2\u001b[m\u001b[m/\r\n"
     ]
    }
   ],
   "source": [
    "ls data"
   ]
  },
  {
   "cell_type": "markdown",
   "metadata": {},
   "source": [
    "The directory name is changed to seasonal2."
   ]
  },
  {
   "cell_type": "code",
   "execution_count": 1,
   "metadata": {},
   "outputs": [
    {
     "data": {
      "text/plain": [
       "'/Users/sushantmore/Documents/DS/projects/shellScripting'"
      ]
     },
     "execution_count": 1,
     "metadata": {},
     "output_type": "execute_result"
    }
   ],
   "source": [
    "pwd"
   ]
  },
  {
   "cell_type": "code",
   "execution_count": 2,
   "metadata": {},
   "outputs": [
    {
     "name": "stdout",
     "output_type": "stream",
     "text": [
      "README.md            \u001b[34mdata\u001b[m\u001b[m/                winter.txt\r\n",
      "autumn.txt           shellCommands.ipynb\r\n"
     ]
    }
   ],
   "source": [
    "ls"
   ]
  },
  {
   "cell_type": "code",
   "execution_count": 3,
   "metadata": {},
   "outputs": [
    {
     "name": "stdout",
     "output_type": "stream",
     "text": [
      "\u001b[34mseasonal2\u001b[m\u001b[m/\r\n"
     ]
    }
   ],
   "source": [
    "ls data/"
   ]
  },
  {
   "cell_type": "markdown",
   "metadata": {},
   "source": [
    "-r stands for doing it in a recursive way."
   ]
  },
  {
   "cell_type": "code",
   "execution_count": 5,
   "metadata": {},
   "outputs": [],
   "source": [
    "cp -r data/seasonal2/ data/seasonal"
   ]
  },
  {
   "cell_type": "code",
   "execution_count": 6,
   "metadata": {},
   "outputs": [
    {
     "name": "stdout",
     "output_type": "stream",
     "text": [
      "\u001b[34mseasonal\u001b[m\u001b[m/  \u001b[34mseasonal2\u001b[m\u001b[m/\r\n"
     ]
    }
   ],
   "source": [
    "ls data/"
   ]
  },
  {
   "cell_type": "markdown",
   "metadata": {},
   "source": [
    "Deleting directories"
   ]
  },
  {
   "cell_type": "code",
   "execution_count": 7,
   "metadata": {},
   "outputs": [
    {
     "name": "stdout",
     "output_type": "stream",
     "text": [
      "rmdir: data/seasonal2/: Directory not empty\r\n"
     ]
    }
   ],
   "source": [
    "rmdir data/seasonal2/"
   ]
  },
  {
   "cell_type": "markdown",
   "metadata": {},
   "source": [
    "As a precautionary measure, only empty directories can be deleted"
   ]
  },
  {
   "cell_type": "code",
   "execution_count": 8,
   "metadata": {},
   "outputs": [
    {
     "name": "stdout",
     "output_type": "stream",
     "text": [
      "\u001b[34mbackup\u001b[m\u001b[m/  \u001b[34mbackup2\u001b[m\u001b[m/\r\n"
     ]
    }
   ],
   "source": [
    "ls data/seasonal2/"
   ]
  },
  {
   "cell_type": "code",
   "execution_count": 9,
   "metadata": {},
   "outputs": [
    {
     "name": "stdout",
     "output_type": "stream",
     "text": [
      "rm: data/seasonal2/backup: is a directory\r\n",
      "rm: data/seasonal2/backup2: is a directory\r\n"
     ]
    }
   ],
   "source": [
    "rm data/seasonal2/*"
   ]
  },
  {
   "cell_type": "code",
   "execution_count": 10,
   "metadata": {},
   "outputs": [
    {
     "name": "stdout",
     "output_type": "stream",
     "text": [
      "autumn.txt  spring.txt\r\n"
     ]
    }
   ],
   "source": [
    "ls data/seasonal2/backup/"
   ]
  },
  {
   "cell_type": "code",
   "execution_count": 11,
   "metadata": {
    "collapsed": true
   },
   "outputs": [],
   "source": [
    "rm data/seasonal2/backup/* data/seasonal2/backup2/*"
   ]
  },
  {
   "cell_type": "code",
   "execution_count": 12,
   "metadata": {},
   "outputs": [
    {
     "name": "stdout",
     "output_type": "stream",
     "text": [
      "rmdir: data/seasonal2/: Directory not empty\r\n"
     ]
    }
   ],
   "source": [
    "rmdir data/seasonal2/"
   ]
  },
  {
   "cell_type": "code",
   "execution_count": 13,
   "metadata": {
    "collapsed": true
   },
   "outputs": [],
   "source": [
    "ls data/seasonal2/backup"
   ]
  },
  {
   "cell_type": "code",
   "execution_count": 14,
   "metadata": {
    "collapsed": true
   },
   "outputs": [],
   "source": [
    "rmdir data/seasonal2/backup/ data/seasonal2/backup2/"
   ]
  },
  {
   "cell_type": "code",
   "execution_count": 15,
   "metadata": {},
   "outputs": [
    {
     "name": "stdout",
     "output_type": "stream",
     "text": [
      "rmdir: data/seasonal2/: Directory not empty\r\n"
     ]
    }
   ],
   "source": [
    "rmdir data/seasonal2/"
   ]
  },
  {
   "cell_type": "code",
   "execution_count": 16,
   "metadata": {
    "collapsed": true
   },
   "outputs": [],
   "source": [
    "ls data/seasonal2/"
   ]
  },
  {
   "cell_type": "code",
   "execution_count": 21,
   "metadata": {},
   "outputs": [
    {
     "name": "stdout",
     "output_type": "stream",
     "text": [
      "rmdir: data/seasonal2/: Directory not empty\r\n"
     ]
    }
   ],
   "source": [
    "!rmdir data/seasonal2/"
   ]
  },
  {
   "cell_type": "code",
   "execution_count": 22,
   "metadata": {},
   "outputs": [
    {
     "name": "stdout",
     "output_type": "stream",
     "text": [
      "\u001b[34m.\u001b[m\u001b[m/         \u001b[34m..\u001b[m\u001b[m/        .DS_Store\r\n"
     ]
    }
   ],
   "source": [
    "ls -a data/seasonal2/"
   ]
  },
  {
   "cell_type": "code",
   "execution_count": 26,
   "metadata": {},
   "outputs": [
    {
     "name": "stdout",
     "output_type": "stream",
     "text": [
      "rm: data/seasonal2/.DS_Store/: No such file or directory\r\n"
     ]
    }
   ],
   "source": [
    "rm data/seasonal2/.DS_Store/"
   ]
  },
  {
   "cell_type": "code",
   "execution_count": null,
   "metadata": {
    "collapsed": true
   },
   "outputs": [],
   "source": []
  }
 ],
 "metadata": {
  "kernelspec": {
   "display_name": "Python 3",
   "language": "python",
   "name": "python3"
  },
  "language_info": {
   "codemirror_mode": {
    "name": "ipython",
    "version": 3
   },
   "file_extension": ".py",
   "mimetype": "text/x-python",
   "name": "python",
   "nbconvert_exporter": "python",
   "pygments_lexer": "ipython3",
   "version": "3.6.3"
  }
 },
 "nbformat": 4,
 "nbformat_minor": 2
}
