{
 "cells": [
  {
   "cell_type": "markdown",
   "metadata": {},
   "source": [
    "## Ref.: Datacamp"
   ]
  },
  {
   "cell_type": "markdown",
   "metadata": {},
   "source": [
    "The name shell comes from the notion that it is the outer shell of the computer. "
   ]
  },
  {
   "cell_type": "markdown",
   "metadata": {},
   "source": [
    "print working directory"
   ]
  },
  {
   "cell_type": "code",
   "execution_count": 1,
   "metadata": {},
   "outputs": [
    {
     "name": "stdout",
     "output_type": "stream",
     "text": [
      "/Users/sushantmore/Documents/DS/projects/shellScripting\r\n"
     ]
    }
   ],
   "source": [
    "!pwd"
   ]
  },
  {
   "cell_type": "code",
   "execution_count": 1,
   "metadata": {},
   "outputs": [
    {
     "name": "stdout",
     "output_type": "stream",
     "text": [
      "sushantmore\r\n"
     ]
    }
   ],
   "source": [
    "#who the computer thinks you are. \n",
    "!whoami"
   ]
  },
  {
   "cell_type": "code",
   "execution_count": 4,
   "metadata": {},
   "outputs": [
    {
     "name": "stdout",
     "output_type": "stream",
     "text": [
      "uid=501(sushantmore) gid=20(staff) groups=20(staff),12(everyone),61(localaccounts),79(_appserverusr),80(admin),81(_appserveradm),98(_lpadmin),701(1),33(_appstore),100(_lpoperator),204(_developer),250(_analyticsusers),395(com.apple.access_ftp),398(com.apple.access_screensharing),399(com.apple.access_ssh)\r\n"
     ]
    }
   ],
   "source": [
    "!whoamI"
   ]
  },
  {
   "cell_type": "code",
   "execution_count": 6,
   "metadata": {},
   "outputs": [
    {
     "name": "stdout",
     "output_type": "stream",
     "text": [
      "README.md           shellCommands.ipynb\r\n"
     ]
    }
   ],
   "source": [
    "# short for listing\n",
    "!ls"
   ]
  },
  {
   "cell_type": "code",
   "execution_count": 9,
   "metadata": {},
   "outputs": [
    {
     "name": "stdout",
     "output_type": "stream",
     "text": [
      "README.md\r\n"
     ]
    }
   ],
   "source": [
    "!ls README.md"
   ]
  },
  {
   "cell_type": "code",
   "execution_count": 10,
   "metadata": {},
   "outputs": [
    {
     "name": "stdout",
     "output_type": "stream",
     "text": [
      "\u001b[30m\u001b[43mC++\u001b[m\u001b[m                      \u001b[30m\u001b[43mKaggleHousingPrices\u001b[m\u001b[m      \u001b[30m\u001b[43mSQL101-202\u001b[m\u001b[m\r\n",
      "\u001b[30m\u001b[43mCreditCardFraudDetection\u001b[m\u001b[m \u001b[30m\u001b[43mKaggleTitanic\u001b[m\u001b[m            \u001b[30m\u001b[43mSchoolBudgetData\u001b[m\u001b[m\r\n",
      "\u001b[30m\u001b[43mHadoopExploration\u001b[m\u001b[m        \u001b[30m\u001b[43mNYCsubwayData\u001b[m\u001b[m            \u001b[30m\u001b[43mTimeSeriesAnalysis\u001b[m\u001b[m\r\n",
      "\u001b[30m\u001b[43mHadoopForumData\u001b[m\u001b[m          \u001b[34mNetworkAnalysis\u001b[m\u001b[m          \u001b[30m\u001b[43mprogramming\u001b[m\u001b[m\r\n",
      "\u001b[30m\u001b[43mImportingAndCleaningData\u001b[m\u001b[m \u001b[30m\u001b[43mObjectOrientedPython\u001b[m\u001b[m     \u001b[34mpythonAndStatsForDS\u001b[m\u001b[m\r\n",
      "\u001b[30m\u001b[43mKaggleDigitRecognizer\u001b[m\u001b[m    \u001b[30m\u001b[43mPandas\u001b[m\u001b[m                   \u001b[34mshellScripting\u001b[m\u001b[m\r\n"
     ]
    }
   ],
   "source": [
    "!ls /Users/sushantmore/Documents/DS/projects/"
   ]
  },
  {
   "cell_type": "code",
   "execution_count": 19,
   "metadata": {},
   "outputs": [
    {
     "name": "stdout",
     "output_type": "stream",
     "text": [
      "\u001b[31mIntro_to_SQL_certificate.pdf\u001b[m\u001b[m   \u001b[31mSQL101.sql~\u001b[m\u001b[m\r\n",
      "\u001b[31mJoining_data_in_postgreSQL.pdf\u001b[m\u001b[m \u001b[31mSQL202.sql\u001b[m\u001b[m\r\n",
      "\u001b[31mREADME.md\u001b[m\u001b[m                      \u001b[31mSQL202.sql~\u001b[m\u001b[m\r\n",
      "\u001b[31mSQL101.sql\u001b[m\u001b[m\r\n"
     ]
    }
   ],
   "source": [
    "!ls /Users/sushantmore/Documents/DS/projects/SQL101-202/"
   ]
  },
  {
   "cell_type": "markdown",
   "metadata": {},
   "source": [
    "\"The shell can tell whether a path is absolute or relative by looking at its first character. If the path begins with /, it is absolute; if it doesn't, it is relative\""
   ]
  },
  {
   "cell_type": "code",
   "execution_count": 20,
   "metadata": {},
   "outputs": [
    {
     "name": "stdout",
     "output_type": "stream",
     "text": [
      "README.md            \u001b[34mdata\u001b[m\u001b[m/                shellCommands.ipynb\r\n"
     ]
    }
   ],
   "source": [
    "ls"
   ]
  },
  {
   "cell_type": "code",
   "execution_count": 21,
   "metadata": {},
   "outputs": [
    {
     "name": "stdout",
     "output_type": "stream",
     "text": [
      "/Users/sushantmore/Documents/DS/projects/shellScripting/data\n"
     ]
    }
   ],
   "source": [
    "cd data/"
   ]
  },
  {
   "cell_type": "code",
   "execution_count": 22,
   "metadata": {},
   "outputs": [
    {
     "data": {
      "text/plain": [
       "'/Users/sushantmore/Documents/DS/projects/shellScripting/data'"
      ]
     },
     "execution_count": 22,
     "metadata": {},
     "output_type": "execute_result"
    }
   ],
   "source": [
    "pwd"
   ]
  },
  {
   "cell_type": "code",
   "execution_count": 23,
   "metadata": {},
   "outputs": [
    {
     "name": "stdout",
     "output_type": "stream",
     "text": [
      "/Users/sushantmore/Documents/DS/projects/shellScripting\n"
     ]
    }
   ],
   "source": [
    "cd ../"
   ]
  },
  {
   "cell_type": "code",
   "execution_count": 24,
   "metadata": {},
   "outputs": [
    {
     "data": {
      "text/plain": [
       "'/Users/sushantmore/Documents/DS/projects/shellScripting'"
      ]
     },
     "execution_count": 24,
     "metadata": {},
     "output_type": "execute_result"
    }
   ],
   "source": [
    "pwd"
   ]
  },
  {
   "cell_type": "code",
   "execution_count": 25,
   "metadata": {},
   "outputs": [
    {
     "name": "stdout",
     "output_type": "stream",
     "text": [
      "/Users/sushantmore/Documents\n"
     ]
    }
   ],
   "source": [
    "cd ../../../"
   ]
  },
  {
   "cell_type": "code",
   "execution_count": 26,
   "metadata": {},
   "outputs": [
    {
     "data": {
      "text/plain": [
       "'/Users/sushantmore/Documents'"
      ]
     },
     "execution_count": 26,
     "metadata": {},
     "output_type": "execute_result"
    }
   ],
   "source": [
    "pwd"
   ]
  },
  {
   "cell_type": "markdown",
   "metadata": {},
   "source": [
    "Root directory is at the very top of the file system"
   ]
  },
  {
   "cell_type": "code",
   "execution_count": 28,
   "metadata": {},
   "outputs": [
    {
     "name": "stdout",
     "output_type": "stream",
     "text": [
      "[Errno 2] No such file or directory: '/DS'\n",
      "/Users/sushantmore/Documents\n"
     ]
    }
   ],
   "source": [
    "cd /DS"
   ]
  },
  {
   "cell_type": "code",
   "execution_count": 29,
   "metadata": {},
   "outputs": [
    {
     "name": "stdout",
     "output_type": "stream",
     "text": [
      "/Users/sushantmore/Documents/DS/projects\n"
     ]
    }
   ],
   "source": [
    "cd DS/projects/"
   ]
  },
  {
   "cell_type": "code",
   "execution_count": 32,
   "metadata": {},
   "outputs": [
    {
     "data": {
      "text/plain": [
       "'/Users/sushantmore/Documents/DS/projects'"
      ]
     },
     "execution_count": 32,
     "metadata": {},
     "output_type": "execute_result"
    }
   ],
   "source": [
    "pwd"
   ]
  },
  {
   "cell_type": "code",
   "execution_count": 33,
   "metadata": {},
   "outputs": [
    {
     "name": "stdout",
     "output_type": "stream",
     "text": [
      "\u001b[30m\u001b[43mC++\u001b[m\u001b[m/                      \u001b[30m\u001b[43mKaggleHousingPrices\u001b[m\u001b[m/      \u001b[30m\u001b[43mSQL101-202\u001b[m\u001b[m/\r\n",
      "\u001b[30m\u001b[43mCreditCardFraudDetection\u001b[m\u001b[m/ \u001b[30m\u001b[43mKaggleTitanic\u001b[m\u001b[m/            \u001b[30m\u001b[43mSchoolBudgetData\u001b[m\u001b[m/\r\n",
      "\u001b[30m\u001b[43mHadoopExploration\u001b[m\u001b[m/        \u001b[30m\u001b[43mNYCsubwayData\u001b[m\u001b[m/            \u001b[30m\u001b[43mTimeSeriesAnalysis\u001b[m\u001b[m/\r\n",
      "\u001b[30m\u001b[43mHadoopForumData\u001b[m\u001b[m/          \u001b[34mNetworkAnalysis\u001b[m\u001b[m/          \u001b[30m\u001b[43mprogramming\u001b[m\u001b[m/\r\n",
      "\u001b[30m\u001b[43mImportingAndCleaningData\u001b[m\u001b[m/ \u001b[30m\u001b[43mObjectOrientedPython\u001b[m\u001b[m/     \u001b[34mpythonAndStatsForDS\u001b[m\u001b[m/\r\n",
      "\u001b[30m\u001b[43mKaggleDigitRecognizer\u001b[m\u001b[m/    \u001b[30m\u001b[43mPandas\u001b[m\u001b[m/                   \u001b[34mshellScripting\u001b[m\u001b[m/\r\n"
     ]
    }
   ],
   "source": [
    "ls"
   ]
  },
  {
   "cell_type": "code",
   "execution_count": 35,
   "metadata": {},
   "outputs": [
    {
     "name": "stdout",
     "output_type": "stream",
     "text": [
      "\u001b[30m\u001b[43mC++\u001b[m\u001b[m/                      \u001b[30m\u001b[43mKaggleHousingPrices\u001b[m\u001b[m/      \u001b[30m\u001b[43mSQL101-202\u001b[m\u001b[m/\r\n",
      "\u001b[30m\u001b[43mCreditCardFraudDetection\u001b[m\u001b[m/ \u001b[30m\u001b[43mKaggleTitanic\u001b[m\u001b[m/            \u001b[30m\u001b[43mSchoolBudgetData\u001b[m\u001b[m/\r\n",
      "\u001b[30m\u001b[43mHadoopExploration\u001b[m\u001b[m/        \u001b[30m\u001b[43mNYCsubwayData\u001b[m\u001b[m/            \u001b[30m\u001b[43mTimeSeriesAnalysis\u001b[m\u001b[m/\r\n",
      "\u001b[30m\u001b[43mHadoopForumData\u001b[m\u001b[m/          \u001b[34mNetworkAnalysis\u001b[m\u001b[m/          \u001b[30m\u001b[43mprogramming\u001b[m\u001b[m/\r\n",
      "\u001b[30m\u001b[43mImportingAndCleaningData\u001b[m\u001b[m/ \u001b[30m\u001b[43mObjectOrientedPython\u001b[m\u001b[m/     \u001b[34mpythonAndStatsForDS\u001b[m\u001b[m/\r\n",
      "\u001b[30m\u001b[43mKaggleDigitRecognizer\u001b[m\u001b[m/    \u001b[30m\u001b[43mPandas\u001b[m\u001b[m/                   \u001b[34mshellScripting\u001b[m\u001b[m/\r\n"
     ]
    }
   ],
   "source": [
    "ls . "
   ]
  },
  {
   "cell_type": "markdown",
   "metadata": {},
   "source": [
    ". means the current directory and ~ means the home directory. No matter where you are ls ~ will list the contents of the home directory and cd ~ will take you to the home directory."
   ]
  },
  {
   "cell_type": "code",
   "execution_count": 36,
   "metadata": {},
   "outputs": [
    {
     "name": "stdout",
     "output_type": "stream",
     "text": [
      "\u001b[34mApplications\u001b[m\u001b[m/   \u001b[34mDownloads\u001b[m\u001b[m/      \u001b[34mMovies\u001b[m\u001b[m/         \u001b[34mPictures\u001b[m\u001b[m/       \u001b[34manaconda3\u001b[m\u001b[m/\r\n",
      "\u001b[34mDesktop\u001b[m\u001b[m/        \u001b[34mDropbox\u001b[m\u001b[m/        \u001b[34mMusic\u001b[m\u001b[m/          \u001b[34mPublic\u001b[m\u001b[m/\r\n",
      "\u001b[34mDocuments\u001b[m\u001b[m/      \u001b[34mLibrary\u001b[m\u001b[m/        \u001b[34mPaladinTemp\u001b[m\u001b[m/    \u001b[34mVirtualBox VMs\u001b[m\u001b[m/\r\n"
     ]
    }
   ],
   "source": [
    "ls ~"
   ]
  },
  {
   "cell_type": "code",
   "execution_count": 37,
   "metadata": {},
   "outputs": [
    {
     "name": "stdout",
     "output_type": "stream",
     "text": [
      "/Users/sushantmore\n"
     ]
    }
   ],
   "source": [
    "cd ~"
   ]
  },
  {
   "cell_type": "code",
   "execution_count": 38,
   "metadata": {},
   "outputs": [
    {
     "data": {
      "text/plain": [
       "'/Users/sushantmore'"
      ]
     },
     "execution_count": 38,
     "metadata": {},
     "output_type": "execute_result"
    }
   ],
   "source": [
    "pwd"
   ]
  },
  {
   "cell_type": "code",
   "execution_count": 39,
   "metadata": {},
   "outputs": [
    {
     "name": "stdout",
     "output_type": "stream",
     "text": [
      "/Users/sushantmore/Documents/DS/projects/C++\n"
     ]
    }
   ],
   "source": [
    "cd Documents/DS/projects/C++/"
   ]
  },
  {
   "cell_type": "code",
   "execution_count": 40,
   "metadata": {},
   "outputs": [
    {
     "data": {
      "text/plain": [
       "'/Users/sushantmore/Documents/DS/projects/C++'"
      ]
     },
     "execution_count": 40,
     "metadata": {},
     "output_type": "execute_result"
    }
   ],
   "source": [
    "pwd"
   ]
  },
  {
   "cell_type": "code",
   "execution_count": 41,
   "metadata": {},
   "outputs": [
    {
     "name": "stdout",
     "output_type": "stream",
     "text": [
      "\u001b[34mApplications\u001b[m\u001b[m/   \u001b[34mDownloads\u001b[m\u001b[m/      \u001b[34mMovies\u001b[m\u001b[m/         \u001b[34mPictures\u001b[m\u001b[m/       \u001b[34manaconda3\u001b[m\u001b[m/\r\n",
      "\u001b[34mDesktop\u001b[m\u001b[m/        \u001b[34mDropbox\u001b[m\u001b[m/        \u001b[34mMusic\u001b[m\u001b[m/          \u001b[34mPublic\u001b[m\u001b[m/\r\n",
      "\u001b[34mDocuments\u001b[m\u001b[m/      \u001b[34mLibrary\u001b[m\u001b[m/        \u001b[34mPaladinTemp\u001b[m\u001b[m/    \u001b[34mVirtualBox VMs\u001b[m\u001b[m/\r\n"
     ]
    }
   ],
   "source": [
    "ls ~"
   ]
  },
  {
   "cell_type": "markdown",
   "metadata": {},
   "source": [
    ".. takes you two directories above. "
   ]
  },
  {
   "cell_type": "code",
   "execution_count": 42,
   "metadata": {},
   "outputs": [
    {
     "name": "stdout",
     "output_type": "stream",
     "text": [
      "\u001b[30m\u001b[43mC++\u001b[m\u001b[m/                      \u001b[30m\u001b[43mKaggleHousingPrices\u001b[m\u001b[m/      \u001b[30m\u001b[43mSQL101-202\u001b[m\u001b[m/\r\n",
      "\u001b[30m\u001b[43mCreditCardFraudDetection\u001b[m\u001b[m/ \u001b[30m\u001b[43mKaggleTitanic\u001b[m\u001b[m/            \u001b[30m\u001b[43mSchoolBudgetData\u001b[m\u001b[m/\r\n",
      "\u001b[30m\u001b[43mHadoopExploration\u001b[m\u001b[m/        \u001b[30m\u001b[43mNYCsubwayData\u001b[m\u001b[m/            \u001b[30m\u001b[43mTimeSeriesAnalysis\u001b[m\u001b[m/\r\n",
      "\u001b[30m\u001b[43mHadoopForumData\u001b[m\u001b[m/          \u001b[34mNetworkAnalysis\u001b[m\u001b[m/          \u001b[30m\u001b[43mprogramming\u001b[m\u001b[m/\r\n",
      "\u001b[30m\u001b[43mImportingAndCleaningData\u001b[m\u001b[m/ \u001b[30m\u001b[43mObjectOrientedPython\u001b[m\u001b[m/     \u001b[34mpythonAndStatsForDS\u001b[m\u001b[m/\r\n",
      "\u001b[30m\u001b[43mKaggleDigitRecognizer\u001b[m\u001b[m/    \u001b[30m\u001b[43mPandas\u001b[m\u001b[m/                   \u001b[34mshellScripting\u001b[m\u001b[m/\r\n"
     ]
    }
   ],
   "source": [
    "ls .."
   ]
  },
  {
   "cell_type": "code",
   "execution_count": 43,
   "metadata": {},
   "outputs": [
    {
     "name": "stdout",
     "output_type": "stream",
     "text": [
      "\u001b[34mChuck\u001b[m\u001b[m/                  \u001b[34mRetail_data\u001b[m\u001b[m/            \u001b[34mbooks\u001b[m\u001b[m/\r\n",
      "\u001b[34mDeuteronDisintegration\u001b[m\u001b[m/ \u001b[34mRworkshop-MSU\u001b[m\u001b[m/          \u001b[34minterviewPrep\u001b[m\u001b[m/\r\n",
      "\u001b[34mHadoopUdacityCourse\u001b[m\u001b[m/    \u001b[34mTitanic\u001b[m\u001b[m/                \u001b[30m\u001b[43mprojects\u001b[m\u001b[m/\r\n",
      "\u001b[34mHudson\u001b[m\u001b[m/                 \u001b[34mUdemyCourseSpark\u001b[m\u001b[m/\r\n",
      "\u001b[34mIntroToDS-Udacity\u001b[m\u001b[m/      \u001b[34mZodiac\u001b[m\u001b[m/\r\n"
     ]
    }
   ],
   "source": [
    "ls ../../"
   ]
  },
  {
   "cell_type": "code",
   "execution_count": 44,
   "metadata": {},
   "outputs": [
    {
     "data": {
      "text/plain": [
       "'/Users/sushantmore/Documents/DS/projects/C++'"
      ]
     },
     "execution_count": 44,
     "metadata": {},
     "output_type": "execute_result"
    }
   ],
   "source": [
    "pwd"
   ]
  },
  {
   "cell_type": "code",
   "execution_count": 45,
   "metadata": {},
   "outputs": [
    {
     "name": "stdout",
     "output_type": "stream",
     "text": [
      "/Users\n"
     ]
    }
   ],
   "source": [
    "cd ~/../"
   ]
  },
  {
   "cell_type": "markdown",
   "metadata": {},
   "source": [
    "** Copying files **"
   ]
  },
  {
   "cell_type": "code",
   "execution_count": 46,
   "metadata": {},
   "outputs": [
    {
     "data": {
      "text/plain": [
       "'/Users'"
      ]
     },
     "execution_count": 46,
     "metadata": {},
     "output_type": "execute_result"
    }
   ],
   "source": [
    "pwd"
   ]
  },
  {
   "cell_type": "code",
   "execution_count": 47,
   "metadata": {},
   "outputs": [
    {
     "name": "stdout",
     "output_type": "stream",
     "text": [
      "/Users/sushantmore/Documents/DS/projects/shellScripting\n"
     ]
    }
   ],
   "source": [
    "cd sushantmore/Documents/DS/projects/shellScripting/"
   ]
  },
  {
   "cell_type": "code",
   "execution_count": 48,
   "metadata": {
    "collapsed": true
   },
   "outputs": [],
   "source": [
    "cp data/seasonal/autumn.txt data/seasonal/spring.txt"
   ]
  },
  {
   "cell_type": "code",
   "execution_count": 49,
   "metadata": {},
   "outputs": [
    {
     "name": "stdout",
     "output_type": "stream",
     "text": [
      "usage: cp [-R [-H | -L | -P]] [-fi | -n] [-apvXc] source_file target_file\r\n",
      "       cp [-R [-H | -L | -P]] [-fi | -n] [-apvXc] source_file ... target_directory\r\n"
     ]
    }
   ],
   "source": [
    "cp data/seasonal/autumn.txt data/seasonal/spring.txt data/seasonal/backup"
   ]
  },
  {
   "cell_type": "code",
   "execution_count": 50,
   "metadata": {
    "collapsed": true
   },
   "outputs": [],
   "source": [
    "mkdir data/seasonal/backup"
   ]
  },
  {
   "cell_type": "code",
   "execution_count": 51,
   "metadata": {
    "collapsed": true
   },
   "outputs": [],
   "source": [
    "cp data/seasonal/autumn.txt data/seasonal/spring.txt data/seasonal/backup"
   ]
  },
  {
   "cell_type": "markdown",
   "metadata": {},
   "source": [
    "If the backup directory already present, then the files are copied there. "
   ]
  },
  {
   "cell_type": "code",
   "execution_count": 52,
   "metadata": {},
   "outputs": [
    {
     "name": "stdout",
     "output_type": "stream",
     "text": [
      "/Users/sushantmore/Documents/DS/projects/shellScripting/data/seasonal\n"
     ]
    }
   ],
   "source": [
    "cd data/seasonal/"
   ]
  },
  {
   "cell_type": "code",
   "execution_count": 53,
   "metadata": {},
   "outputs": [
    {
     "name": "stdout",
     "output_type": "stream",
     "text": [
      "/Users/sushantmore/Documents/DS/projects/shellScripting/data\n"
     ]
    }
   ],
   "source": [
    "cd .."
   ]
  },
  {
   "cell_type": "code",
   "execution_count": 54,
   "metadata": {
    "collapsed": true
   },
   "outputs": [],
   "source": [
    "mv seasonal/winter.txt seasonal/autumn.txt .."
   ]
  },
  {
   "cell_type": "markdown",
   "metadata": {},
   "source": [
    "The above commands move the files to one directory up from the current directory."
   ]
  },
  {
   "cell_type": "code",
   "execution_count": 55,
   "metadata": {},
   "outputs": [
    {
     "name": "stdout",
     "output_type": "stream",
     "text": [
      "\u001b[34mbackup\u001b[m\u001b[m/     spring.txt\r\n"
     ]
    }
   ],
   "source": [
    "ls seasonal/"
   ]
  },
  {
   "cell_type": "code",
   "execution_count": 56,
   "metadata": {},
   "outputs": [
    {
     "name": "stdout",
     "output_type": "stream",
     "text": [
      "README.md            \u001b[34mdata\u001b[m\u001b[m/                winter.txt\r\n",
      "autumn.txt           shellCommands.ipynb\r\n"
     ]
    }
   ],
   "source": [
    "ls ../"
   ]
  },
  {
   "cell_type": "code",
   "execution_count": 57,
   "metadata": {},
   "outputs": [
    {
     "data": {
      "text/plain": [
       "'/Users/sushantmore/Documents/DS/projects/shellScripting/data'"
      ]
     },
     "execution_count": 57,
     "metadata": {},
     "output_type": "execute_result"
    }
   ],
   "source": [
    "pwd"
   ]
  },
  {
   "cell_type": "code",
   "execution_count": 58,
   "metadata": {},
   "outputs": [
    {
     "name": "stdout",
     "output_type": "stream",
     "text": [
      "\u001b[34mseasonal\u001b[m\u001b[m/\r\n"
     ]
    }
   ],
   "source": [
    "ls"
   ]
  },
  {
   "cell_type": "code",
   "execution_count": 59,
   "metadata": {},
   "outputs": [
    {
     "name": "stdout",
     "output_type": "stream",
     "text": [
      "/Users/sushantmore/Documents/DS/projects/shellScripting\n"
     ]
    }
   ],
   "source": [
    "cd .."
   ]
  },
  {
   "cell_type": "code",
   "execution_count": 60,
   "metadata": {},
   "outputs": [
    {
     "name": "stdout",
     "output_type": "stream",
     "text": [
      "README.md            \u001b[34mdata\u001b[m\u001b[m/                winter.txt\r\n",
      "autumn.txt           shellCommands.ipynb\r\n"
     ]
    }
   ],
   "source": [
    "ls"
   ]
  },
  {
   "cell_type": "code",
   "execution_count": 61,
   "metadata": {},
   "outputs": [
    {
     "data": {
      "text/plain": [
       "'/Users/sushantmore/Documents/DS/projects/shellScripting'"
      ]
     },
     "execution_count": 61,
     "metadata": {},
     "output_type": "execute_result"
    }
   ],
   "source": [
    "pwd"
   ]
  },
  {
   "cell_type": "code",
   "execution_count": 62,
   "metadata": {
    "collapsed": true
   },
   "outputs": [],
   "source": [
    "mv data/seasonal/spring.txt data/seasonal/spring2.txt"
   ]
  },
  {
   "cell_type": "markdown",
   "metadata": {},
   "source": [
    "Using mv for renaming files "
   ]
  },
  {
   "cell_type": "code",
   "execution_count": 63,
   "metadata": {},
   "outputs": [
    {
     "name": "stdout",
     "output_type": "stream",
     "text": [
      "\u001b[34mbackup\u001b[m\u001b[m/      spring2.txt\r\n"
     ]
    }
   ],
   "source": [
    "ls data/seasonal/"
   ]
  },
  {
   "cell_type": "markdown",
   "metadata": {},
   "source": [
    "Removing files"
   ]
  },
  {
   "cell_type": "code",
   "execution_count": 64,
   "metadata": {
    "collapsed": true
   },
   "outputs": [],
   "source": [
    "mkdir data/seasonal/backup2"
   ]
  },
  {
   "cell_type": "code",
   "execution_count": 70,
   "metadata": {
    "collapsed": true
   },
   "outputs": [],
   "source": [
    "cp data/seasonal/backup/* data/seasonal/backup2/"
   ]
  },
  {
   "cell_type": "code",
   "execution_count": 71,
   "metadata": {},
   "outputs": [
    {
     "name": "stdout",
     "output_type": "stream",
     "text": [
      "autumn.txt  spring.txt\r\n"
     ]
    }
   ],
   "source": [
    "ls data/seasonal/backup2/"
   ]
  },
  {
   "cell_type": "code",
   "execution_count": 72,
   "metadata": {
    "collapsed": true
   },
   "outputs": [],
   "source": [
    "rm data/seasonal/backup2/autumn.txt "
   ]
  },
  {
   "cell_type": "markdown",
   "metadata": {},
   "source": [
    "As cp and mv, rm can take multiple files as input. Also shell doesn't have a trash can. So files are deleted for good. "
   ]
  },
  {
   "cell_type": "markdown",
   "metadata": {},
   "source": [
    "** Creating and deleting directories ** "
   ]
  },
  {
   "cell_type": "code",
   "execution_count": 73,
   "metadata": {},
   "outputs": [
    {
     "data": {
      "text/plain": [
       "'/Users/sushantmore/Documents/DS/projects/shellScripting'"
      ]
     },
     "execution_count": 73,
     "metadata": {},
     "output_type": "execute_result"
    }
   ],
   "source": [
    "pwd"
   ]
  },
  {
   "cell_type": "code",
   "execution_count": 74,
   "metadata": {
    "collapsed": true
   },
   "outputs": [],
   "source": [
    "mv data/seasonal/ data/seasonal2/"
   ]
  },
  {
   "cell_type": "code",
   "execution_count": 75,
   "metadata": {},
   "outputs": [
    {
     "name": "stdout",
     "output_type": "stream",
     "text": [
      "\u001b[34mseasonal2\u001b[m\u001b[m/\r\n"
     ]
    }
   ],
   "source": [
    "ls data"
   ]
  },
  {
   "cell_type": "markdown",
   "metadata": {},
   "source": [
    "The directory name is changed to seasonal2."
   ]
  },
  {
   "cell_type": "code",
   "execution_count": 1,
   "metadata": {},
   "outputs": [
    {
     "data": {
      "text/plain": [
       "'/Users/sushantmore/Documents/DS/projects/shellScripting'"
      ]
     },
     "execution_count": 1,
     "metadata": {},
     "output_type": "execute_result"
    }
   ],
   "source": [
    "pwd"
   ]
  },
  {
   "cell_type": "code",
   "execution_count": 2,
   "metadata": {},
   "outputs": [
    {
     "name": "stdout",
     "output_type": "stream",
     "text": [
      "README.md            \u001b[34mdata\u001b[m\u001b[m/                winter.txt\r\n",
      "autumn.txt           shellCommands.ipynb\r\n"
     ]
    }
   ],
   "source": [
    "ls"
   ]
  },
  {
   "cell_type": "code",
   "execution_count": 3,
   "metadata": {},
   "outputs": [
    {
     "name": "stdout",
     "output_type": "stream",
     "text": [
      "\u001b[34mseasonal2\u001b[m\u001b[m/\r\n"
     ]
    }
   ],
   "source": [
    "ls data/"
   ]
  },
  {
   "cell_type": "markdown",
   "metadata": {},
   "source": [
    "-r stands for doing it in a recursive way."
   ]
  },
  {
   "cell_type": "code",
   "execution_count": 5,
   "metadata": {
    "collapsed": true
   },
   "outputs": [],
   "source": [
    "cp -r data/seasonal2/ data/seasonal"
   ]
  },
  {
   "cell_type": "code",
   "execution_count": 6,
   "metadata": {},
   "outputs": [
    {
     "name": "stdout",
     "output_type": "stream",
     "text": [
      "\u001b[34mseasonal\u001b[m\u001b[m/  \u001b[34mseasonal2\u001b[m\u001b[m/\r\n"
     ]
    }
   ],
   "source": [
    "ls data/"
   ]
  },
  {
   "cell_type": "markdown",
   "metadata": {},
   "source": [
    "Deleting directories"
   ]
  },
  {
   "cell_type": "code",
   "execution_count": 7,
   "metadata": {},
   "outputs": [
    {
     "name": "stdout",
     "output_type": "stream",
     "text": [
      "rmdir: data/seasonal2/: Directory not empty\r\n"
     ]
    }
   ],
   "source": [
    "rmdir data/seasonal2/"
   ]
  },
  {
   "cell_type": "markdown",
   "metadata": {},
   "source": [
    "As a precautionary measure, only empty directories can be deleted"
   ]
  },
  {
   "cell_type": "code",
   "execution_count": 8,
   "metadata": {},
   "outputs": [
    {
     "name": "stdout",
     "output_type": "stream",
     "text": [
      "\u001b[34mbackup\u001b[m\u001b[m/  \u001b[34mbackup2\u001b[m\u001b[m/\r\n"
     ]
    }
   ],
   "source": [
    "ls data/seasonal2/"
   ]
  },
  {
   "cell_type": "code",
   "execution_count": 9,
   "metadata": {},
   "outputs": [
    {
     "name": "stdout",
     "output_type": "stream",
     "text": [
      "rm: data/seasonal2/backup: is a directory\r\n",
      "rm: data/seasonal2/backup2: is a directory\r\n"
     ]
    }
   ],
   "source": [
    "rm data/seasonal2/*"
   ]
  },
  {
   "cell_type": "code",
   "execution_count": 10,
   "metadata": {},
   "outputs": [
    {
     "name": "stdout",
     "output_type": "stream",
     "text": [
      "autumn.txt  spring.txt\r\n"
     ]
    }
   ],
   "source": [
    "ls data/seasonal2/backup/"
   ]
  },
  {
   "cell_type": "code",
   "execution_count": 11,
   "metadata": {
    "collapsed": true
   },
   "outputs": [],
   "source": [
    "rm data/seasonal2/backup/* data/seasonal2/backup2/*"
   ]
  },
  {
   "cell_type": "code",
   "execution_count": 12,
   "metadata": {},
   "outputs": [
    {
     "name": "stdout",
     "output_type": "stream",
     "text": [
      "rmdir: data/seasonal2/: Directory not empty\r\n"
     ]
    }
   ],
   "source": [
    "rmdir data/seasonal2/"
   ]
  },
  {
   "cell_type": "code",
   "execution_count": 13,
   "metadata": {
    "collapsed": true
   },
   "outputs": [],
   "source": [
    "ls data/seasonal2/backup"
   ]
  },
  {
   "cell_type": "code",
   "execution_count": 14,
   "metadata": {
    "collapsed": true
   },
   "outputs": [],
   "source": [
    "rmdir data/seasonal2/backup/ data/seasonal2/backup2/"
   ]
  },
  {
   "cell_type": "code",
   "execution_count": 15,
   "metadata": {},
   "outputs": [
    {
     "name": "stdout",
     "output_type": "stream",
     "text": [
      "rmdir: data/seasonal2/: Directory not empty\r\n"
     ]
    }
   ],
   "source": [
    "rmdir data/seasonal2/"
   ]
  },
  {
   "cell_type": "code",
   "execution_count": 16,
   "metadata": {
    "collapsed": true
   },
   "outputs": [],
   "source": [
    "ls data/seasonal2/"
   ]
  },
  {
   "cell_type": "code",
   "execution_count": 21,
   "metadata": {},
   "outputs": [
    {
     "name": "stdout",
     "output_type": "stream",
     "text": [
      "rmdir: data/seasonal2/: Directory not empty\r\n"
     ]
    }
   ],
   "source": [
    "!rmdir data/seasonal2/"
   ]
  },
  {
   "cell_type": "code",
   "execution_count": 22,
   "metadata": {},
   "outputs": [
    {
     "name": "stdout",
     "output_type": "stream",
     "text": [
      "\u001b[34m.\u001b[m\u001b[m/         \u001b[34m..\u001b[m\u001b[m/        .DS_Store\r\n"
     ]
    }
   ],
   "source": [
    "ls -a data/seasonal2/"
   ]
  },
  {
   "cell_type": "code",
   "execution_count": 26,
   "metadata": {},
   "outputs": [
    {
     "name": "stdout",
     "output_type": "stream",
     "text": [
      "rm: data/seasonal2/.DS_Store/: No such file or directory\r\n"
     ]
    }
   ],
   "source": [
    "rm data/seasonal2/.DS_Store/"
   ]
  },
  {
   "cell_type": "markdown",
   "metadata": {},
   "source": [
    "** Viewing files **"
   ]
  },
  {
   "cell_type": "markdown",
   "metadata": {},
   "source": [
    "cat filename: displays the contents of the file. \n",
    "\n",
    "cat displays all the content in the file. To page the output use 'less'.\n",
    "\n",
    "less filename: To see one page at a time. Use space bar to page down or type q to quit. \n",
    "\n",
    "If you are viewing several files type :n to move to the next file, or :p to go back to the previous one. \n",
    "\n",
    "head filename: prints the first 10 lines of the file. \n",
    "\n",
    "head -n 20 filename: prints the first 20 lines of the file. "
   ]
  },
  {
   "cell_type": "code",
   "execution_count": 27,
   "metadata": {},
   "outputs": [
    {
     "data": {
      "text/plain": [
       "'/Users/sushantmore/Documents/DS/projects/shellScripting'"
      ]
     },
     "execution_count": 27,
     "metadata": {},
     "output_type": "execute_result"
    }
   ],
   "source": [
    "pwd"
   ]
  },
  {
   "cell_type": "code",
   "execution_count": 28,
   "metadata": {},
   "outputs": [
    {
     "name": "stdout",
     "output_type": "stream",
     "text": [
      "README.md            \u001b[34mdata\u001b[m\u001b[m/                winter.txt\r\n",
      "autumn.txt           shellCommands.ipynb\r\n",
      "\r\n",
      "./data:\r\n",
      "\u001b[34mseasonal\u001b[m\u001b[m/  \u001b[34mseasonal2\u001b[m\u001b[m/\r\n",
      "\r\n",
      "./data/seasonal:\r\n",
      "\u001b[34mbackup\u001b[m\u001b[m/  \u001b[34mbackup2\u001b[m\u001b[m/\r\n",
      "\r\n",
      "./data/seasonal/backup:\r\n",
      "autumn.txt  spring.txt\r\n",
      "\r\n",
      "./data/seasonal/backup2:\r\n",
      "spring.txt\r\n",
      "\r\n",
      "./data/seasonal2:\r\n"
     ]
    }
   ],
   "source": [
    "ls -R"
   ]
  },
  {
   "cell_type": "code",
   "execution_count": 29,
   "metadata": {
    "collapsed": true
   },
   "outputs": [],
   "source": [
    "ls data/seasonal2/"
   ]
  },
  {
   "cell_type": "markdown",
   "metadata": {},
   "source": [
    "Do see everything under the directory no matter how deeply nested it is, we use ls -R. R stands for recursive. "
   ]
  },
  {
   "cell_type": "code",
   "execution_count": 33,
   "metadata": {},
   "outputs": [
    {
     "name": "stdout",
     "output_type": "stream",
     "text": [
      "README.md            \u001b[34mdata\u001b[m\u001b[m/                winter.txt\r\n",
      "autumn.txt           shellCommands.ipynb\r\n"
     ]
    }
   ],
   "source": [
    "ls -F"
   ]
  },
  {
   "cell_type": "code",
   "execution_count": 34,
   "metadata": {},
   "outputs": [
    {
     "name": "stdout",
     "output_type": "stream",
     "text": [
      "README.md            \u001b[34mdata\u001b[m\u001b[m/                winter.txt\r\n",
      "autumn.txt           shellCommands.ipynb\r\n",
      "\r\n",
      "./data:\r\n",
      "\u001b[34mseasonal\u001b[m\u001b[m/  \u001b[34mseasonal2\u001b[m\u001b[m/\r\n",
      "\r\n",
      "./data/seasonal:\r\n",
      "\u001b[34mbackup\u001b[m\u001b[m/  \u001b[34mbackup2\u001b[m\u001b[m/\r\n",
      "\r\n",
      "./data/seasonal/backup:\r\n",
      "autumn.txt  spring.txt\r\n",
      "\r\n",
      "./data/seasonal/backup2:\r\n",
      "spring.txt\r\n",
      "\r\n",
      "./data/seasonal2:\r\n"
     ]
    }
   ],
   "source": [
    "ls -R -F"
   ]
  },
  {
   "cell_type": "markdown",
   "metadata": {},
   "source": [
    "-F prints a '/' after the name of every directory and a * after the name of every runnable program. When specifying two flags their order does not matter. "
   ]
  },
  {
   "cell_type": "code",
   "execution_count": 39,
   "metadata": {},
   "outputs": [
    {
     "name": "stdout",
     "output_type": "stream",
     "text": [
      "\r\n",
      "TAIL(1)                   BSD General Commands Manual                  TAIL(1)\r\n",
      "\r\n",
      "N\bNA\bAM\bME\bE\r\n",
      "     t\bta\bai\bil\bl -- display the last part of a file\r\n",
      "\r\n",
      "S\bSY\bYN\bNO\bOP\bPS\bSI\bIS\bS\r\n",
      "     t\bta\bai\bil\bl [-\b-F\bF | -\b-f\bf | -\b-r\br] [-\b-q\bq] [-\b-b\bb _\bn_\bu_\bm_\bb_\be_\br | -\b-c\bc _\bn_\bu_\bm_\bb_\be_\br | -\b-n\bn _\bn_\bu_\bm_\bb_\be_\br] [_\bf_\bi_\bl_\be _\b._\b._\b.]\r\n",
      "\r\n",
      "D\bDE\bES\bSC\bCR\bRI\bIP\bPT\bTI\bIO\bON\bN\r\n",
      "     The t\bta\bai\bil\bl utility displays the contents of _\bf_\bi_\bl_\be or, by default, its stan-\r\n",
      "     dard input, to the standard output.\r\n",
      "\r\n",
      "     The display begins at a byte, line or 512-byte block location in the\r\n",
      "     input.  Numbers having a leading plus (`+') sign are relative to the\r\n",
      "     beginning of the input, for example, ``-c +2'' starts the display at the\r\n",
      "     second byte of the input.  Numbers having a leading minus (`-') sign or\r\n",
      "     no explicit sign are relative to the end of the input, for example, ``-n\r\n",
      "     2'' displays the last two lines of the input.  The default starting loca-\r\n",
      "     tion is ``-n 10'', or the last 10 lines of the input.\r\n",
      "\r\n",
      "     The options are as follows:\r\n",
      "\r\n",
      "     -\b-b\bb _\bn_\bu_\bm_\bb_\be_\br\r\n",
      "             The location is _\bn_\bu_\bm_\bb_\be_\br 512-byte blocks.\r\n",
      "\r\n",
      "     -\b-c\bc _\bn_\bu_\bm_\bb_\be_\br\r\n",
      "             The location is _\bn_\bu_\bm_\bb_\be_\br bytes.\r\n",
      "\r\n",
      "     -\b-f\bf      The -\b-f\bf option causes t\bta\bai\bil\bl to not stop when end of file is\r\n",
      "             reached, but rather to wait for additional data to be appended to\r\n",
      "             the input.  The -\b-f\bf option is ignored if the standard input is a\r\n",
      "             pipe, but not if it is a FIFO.\r\n",
      "\r\n",
      "     -\b-F\bF      The -\b-F\bF option implies the -\b-f\bf option, but t\bta\bai\bil\bl will also check to\r\n",
      "             see if the file being followed has been renamed or rotated.  The\r\n",
      "             file is closed and reopened when t\bta\bai\bil\bl detects that the filename\r\n",
      "             being read from has a new inode number.  The -\b-F\bF option is ignored\r\n",
      "             if reading from standard input rather than a file.\r\n",
      "\r\n",
      "     -\b-n\bn _\bn_\bu_\bm_\bb_\be_\br\r\n",
      "             The location is _\bn_\bu_\bm_\bb_\be_\br lines.\r\n",
      "\r\n",
      "     -\b-q\bq      Suppresses printing of headers when multiple files are being\r\n",
      "             examined.\r\n",
      "\r\n",
      "     -\b-r\br      The -\b-r\br option causes the input to be displayed in reverse order,\r\n",
      "             by line.  Additionally, this option changes the meaning of the\r\n",
      "             -\b-b\bb, -\b-c\bc and -\b-n\bn options.  When the -\b-r\br option is specified, these\r\n",
      "             options specify the number of bytes, lines or 512-byte blocks to\r\n",
      "             display, instead of the bytes, lines or blocks from the beginning\r\n",
      "             or end of the input from which to begin the display.  The default\r\n",
      "             for the -\b-r\br option is to display all of the input.\r\n",
      "\r\n",
      "     If more than a single file is specified, each file is preceded by a\r\n",
      "     header consisting of the string ``==> _\bX_\bX_\bX <=='' where _\bX_\bX_\bX is the name of\r\n",
      "     the file unless -\b-q\bq flag is specified.\r\n",
      "\r\n",
      "E\bEX\bXI\bIT\bT S\bST\bTA\bAT\bTU\bUS\bS\r\n",
      "     The t\bta\bai\bil\bl utility exits 0 on success, and >0 if an error occurs.\r",
      "\r\n",
      "\r\n",
      "S\bSE\bEE\bE A\bAL\bLS\bSO\bO\r\n",
      "     cat(1), head(1), sed(1)\r\n",
      "\r\n",
      "S\bST\bTA\bAN\bND\bDA\bAR\bRD\bDS\bS\r\n",
      "     The t\bta\bai\bil\bl utility is expected to be a superset of the IEEE Std 1003.2-1992\r\n",
      "     (``POSIX.2'') specification.  In particular, the -\b-F\bF, -\b-b\bb and -\b-r\br options\r\n",
      "     are extensions to that standard.\r\n",
      "\r\n",
      "     The historic command line syntax of t\bta\bai\bil\bl is supported by this implementa-\r\n",
      "     tion.  The only difference between this implementation and historic ver-\r\n",
      "     sions of t\bta\bai\bil\bl, once the command line syntax translation has been done, is\r\n",
      "     that the -\b-b\bb, -\b-c\bc and -\b-n\bn options modify the -\b-r\br option, i.e., ``-r -c 4''\r\n",
      "     displays the last 4 characters of the last line of the input, while the\r\n",
      "     historic tail (using the historic syntax ``-4cr'') would ignore the -\b-c\bc\r\n",
      "     option and display the last 4 lines of the input.\r\n",
      "\r\n",
      "H\bHI\bIS\bST\bTO\bOR\bRY\bY\r\n",
      "     A t\bta\bai\bil\bl command appeared in PWB UNIX.\r\n",
      "\r\n",
      "BSD                              June 29, 2006                             BSD\r\n"
     ]
    }
   ],
   "source": [
    "!man tail"
   ]
  },
  {
   "cell_type": "markdown",
   "metadata": {},
   "source": [
    "In the command tail, using the -n flag with +NUMBER will display lines starting from NUMBER. "
   ]
  },
  {
   "cell_type": "code",
   "execution_count": 40,
   "metadata": {},
   "outputs": [
    {
     "data": {
      "text/plain": [
       "'/Users/sushantmore/Documents/DS/projects/shellScripting'"
      ]
     },
     "execution_count": 40,
     "metadata": {},
     "output_type": "execute_result"
    }
   ],
   "source": [
    "pwd"
   ]
  },
  {
   "cell_type": "markdown",
   "metadata": {},
   "source": [
    "Selecting columns"
   ]
  },
  {
   "cell_type": "code",
   "execution_count": 42,
   "metadata": {},
   "outputs": [
    {
     "name": "stdout",
     "output_type": "stream",
     "text": [
      "Date,Open,High,Low,Close,Volume,Adj Close\r\n",
      "2015-01-02,2058.899902,2072.360107,2046.040039,2058.199951,2708700000,2058.199951\r\n",
      "2015-01-05,2054.439941,2054.439941,2017.339966,2020.5799559999998,3799120000,2020.5799559999998\r\n",
      "2015-01-06,2022.1500239999998,2030.25,1992.439941,2002.609985,4460110000,2002.609985\r\n",
      "2015-01-07,2005.550049,2029.609985,2005.550049,2025.9000239999998,3805480000,2025.9000239999998\r\n",
      "2015-01-08,2030.609985,2064.080078,2030.609985,2062.139893,3934010000,2062.139893\r\n",
      "2015-01-09,2063.449951,2064.429932,2038.3299559999998,2044.810059,3364140000,2044.810059\r\n",
      "2015-01-12,2046.130005,2049.300049,2022.5799559999998,2028.2600100000002,3456460000,2028.2600100000002\r\n",
      "2015-01-13,2031.5799559999998,2056.929932,2008.25,2023.030029,4107300000,2023.030029\r\n",
      "2015-01-14,2018.4000239999998,2018.4000239999998,1988.439941,2011.27002,4378680000,2011.27002\r\n"
     ]
    }
   ],
   "source": [
    "!head data/sp500.csv"
   ]
  },
  {
   "cell_type": "code",
   "execution_count": 63,
   "metadata": {},
   "outputs": [
    {
     "name": "stdout",
     "output_type": "stream",
     "text": [
      "Date,Open,High,Close,Adj Close\r\n",
      "2015-01-02,2058.899902,2072.360107,2058.199951,2058.199951\r\n",
      "2015-01-05,2054.439941,2054.439941,2020.5799559999998,2020.5799559999998\r\n",
      "2015-01-06,2022.1500239999998,2030.25,2002.609985,2002.609985\r\n",
      "2015-01-07,2005.550049,2029.609985,2025.9000239999998,2025.9000239999998\r\n",
      "2015-01-08,2030.609985,2064.080078,2062.139893,2062.139893\r\n",
      "2015-01-09,2063.449951,2064.429932,2044.810059,2044.810059\r\n",
      "2015-01-12,2046.130005,2049.300049,2028.2600100000002,2028.2600100000002\r\n",
      "2015-01-13,2031.5799559999998,2056.929932,2023.030029,2023.030029\r\n",
      "2015-01-14,2018.4000239999998,2018.4000239999998,2011.27002,2011.27002\r\n",
      "2015-01-15,2013.75,2021.3499760000002,1992.6700440000002,1992.6700440000002\r\n",
      "2015-01-16,1992.25,2020.459961,2019.4200440000002,2019.4200440000002\r\n",
      "2015-01-20,2020.7600100000002,2028.939941,2022.550049,2022.550049\r\n",
      "2015-01-21,2020.189941,2038.290039,2032.119995,2032.119995\r\n",
      "2015-01-22,2034.300049,2064.6201170000004,2063.149902,2063.149902\r\n",
      "2015-01-23,2062.97998,2062.97998,2051.820068,2051.820068\r\n",
      "2015-01-26,2050.419922,2057.6201170000004,2057.090088,2057.090088\r\n",
      "2015-01-27,2047.859985,2047.859985,2029.550049,2029.550049\r\n",
      "2015-01-28,2032.339966,2042.4899899999998,2002.160034,2002.160034\r\n",
      "2015-01-29,2002.449951,2024.640015,2021.25,2021.25\r\n",
      "2015-01-30,2019.3499760000002,2023.319946,1994.9899899999998,1994.9899899999998\r\n",
      "2015-02-02,1996.6700440000002,2021.660034,2020.8499760000002,2020.8499760000002\r\n",
      "2015-02-03,2022.709961,2050.300049,2050.030029,2050.030029\r\n",
      "2015-02-04,2048.860107,2054.73999,2041.5100100000002,2041.5100100000002\r\n",
      "2015-02-05,2043.449951,2063.550049,2062.52002,2062.52002\r\n",
      "2015-02-06,2062.280029,2072.399902,2055.469971,2055.469971\r\n",
      "2015-02-09,2053.469971,2056.159912,2046.7399899999998,2046.7399899999998\r\n",
      "2015-02-10,2049.3798829999996,2070.860107,2068.590088,2068.590088\r\n",
      "2015-02-11,2068.550049,2073.47998,2068.530029,2068.530029\r\n",
      "2015-02-12,2069.97998,2088.530029,2088.47998,2088.47998\r\n",
      "2015-02-13,2088.780029,2097.030029,2096.98999,2096.98999\r\n",
      "2015-02-17,2096.469971,2101.300049,2100.340088,2100.340088\r\n",
      "2015-02-18,2099.159912,2100.22998,2099.679932,2099.679932\r\n",
      "2015-02-19,2099.25,2102.1298829999996,2097.449951,2097.449951\r\n",
      "2015-02-20,2097.649902,2110.610107,2110.300049,2110.300049\r\n",
      "2015-02-23,2109.830078,2110.050049,2109.659912,2109.659912\r\n",
      "2015-02-24,2109.100098,2117.939941,2115.47998,2115.47998\r\n",
      "2015-02-25,2115.300049,2119.590088,2113.860107,2113.860107\r\n",
      "2015-02-26,2113.909912,2113.909912,2110.73999,2110.73999\r\n",
      "2015-02-27,2110.8798829999996,2112.73999,2104.5,2104.5\r\n",
      "2015-03-02,2105.22998,2117.52002,2117.389893,2117.389893\r\n",
      "2015-03-03,2115.76001,2115.76001,2107.780029,2107.780029\r\n",
      "2015-03-04,2107.719971,2107.719971,2098.530029,2098.530029\r\n",
      "2015-03-05,2098.540039,2104.25,2101.040039,2101.040039\r\n",
      "2015-03-06,2100.909912,2100.909912,2071.26001,2071.26001\r\n",
      "2015-03-09,2072.25,2083.48999,2079.429932,2079.429932\r\n",
      "2015-03-10,2076.139893,2076.139893,2044.160034,2044.160034\r\n",
      "2015-03-11,2044.689941,2050.080078,2040.2399899999998,2040.2399899999998\r\n",
      "2015-03-12,2041.0999760000002,2066.409912,2065.949951,2065.949951\r\n",
      "2015-03-13,2064.560059,2064.560059,2053.399902,2053.399902\r\n",
      "2015-03-16,2055.350098,2081.409912,2081.189941,2081.189941\r\n",
      "2015-03-17,2080.590088,2080.590088,2074.280029,2074.280029\r\n",
      "2015-03-18,2072.840088,2106.850098,2099.5,2099.5\r\n",
      "2015-03-19,2098.689941,2098.689941,2089.27002,2089.27002\r\n",
      "2015-03-20,2090.320068,2113.919922,2108.100098,2108.100098\r\n",
      "2015-03-23,2107.98999,2114.860107,2104.419922,2104.419922\r",
      "\r\n",
      "2015-03-24,2103.939941,2107.6298829999996,2091.5,2091.5\r\n",
      "2015-03-25,2093.100098,2097.429932,2061.050049,2061.050049\r\n",
      "2015-03-26,2059.939941,2067.149902,2056.149902,2056.149902\r\n",
      "2015-03-27,2055.780029,2062.830078,2061.02002,2061.02002\r\n",
      "2015-03-30,2064.110107,2088.969971,2086.23999,2086.23999\r\n",
      "2015-03-31,2084.050049,2084.050049,2067.889893,2067.889893\r\n",
      "2015-04-01,2067.6298829999996,2067.6298829999996,2059.689941,2059.689941\r\n",
      "2015-04-02,2060.030029,2072.169922,2066.959961,2066.959961\r\n",
      "2015-04-06,2064.8701170000004,2086.98999,2080.6201170000004,2080.6201170000004\r\n",
      "2015-04-07,2080.790039,2089.810059,2076.330078,2076.330078\r\n",
      "2015-04-08,2076.939941,2086.689941,2081.899902,2081.899902\r\n",
      "2015-04-09,2081.290039,2093.310059,2091.179932,2091.179932\r\n",
      "2015-04-10,2091.51001,2102.610107,2102.060059,2102.060059\r\n",
      "2015-04-13,2102.030029,2107.649902,2092.429932,2092.429932\r\n",
      "2015-04-14,2092.280029,2098.6201170000004,2095.840088,2095.840088\r\n",
      "2015-04-15,2097.820068,2111.909912,2106.6298829999996,2106.6298829999996\r\n",
      "2015-04-16,2105.959961,2111.300049,2104.98999,2104.98999\r\n",
      "2015-04-17,2102.580078,2102.580078,2081.179932,2081.179932\r\n",
      "2015-04-20,2084.110107,2103.939941,2100.399902,2100.399902\r\n",
      "2015-04-21,2102.820068,2109.639893,2097.290039,2097.290039\r\n",
      "2015-04-22,2098.27002,2109.97998,2107.959961,2107.959961\r\n",
      "2015-04-23,2107.209961,2120.48999,2112.929932,2112.929932\r\n",
      "2015-04-24,2112.800049,2120.919922,2117.689941,2117.689941\r\n",
      "2015-04-27,2119.290039,2125.919922,2108.919922,2108.919922\r\n",
      "2015-04-28,2108.350098,2116.040039,2114.76001,2114.76001\r\n",
      "2015-04-29,2112.48999,2113.649902,2106.850098,2106.850098\r\n",
      "2015-04-30,2105.52002,2105.52002,2085.51001,2085.51001\r\n",
      "2015-05-01,2087.3798829999996,2108.409912,2108.290039,2108.290039\r\n",
      "2015-05-04,2110.22998,2120.949951,2114.48999,2114.48999\r\n",
      "2015-05-05,2112.6298829999996,2115.23999,2089.459961,2089.459961\r\n",
      "2015-05-06,2091.26001,2098.419922,2080.149902,2080.149902\r\n",
      "2015-05-07,2079.959961,2092.899902,2088.0,2088.0\r\n",
      "2015-05-08,2092.1298829999996,2117.659912,2116.100098,2116.100098\r\n",
      "2015-05-11,2115.560059,2117.689941,2105.330078,2105.330078\r\n",
      "2015-05-12,2102.8701170000004,2105.060059,2099.1201170000004,2099.1201170000004\r\n",
      "2015-05-13,2099.6201170000004,2110.189941,2098.47998,2098.47998\r\n",
      "2015-05-14,2100.429932,2121.449951,2121.100098,2121.100098\r\n",
      "2015-05-15,2122.070068,2123.889893,2122.72998,2122.72998\r\n",
      "2015-05-18,2121.300049,2131.780029,2129.199951,2129.199951\r\n",
      "2015-05-19,2129.449951,2133.02002,2127.830078,2127.830078\r\n",
      "2015-05-20,2127.790039,2134.719971,2125.850098,2125.850098\r\n",
      "2015-05-21,2125.550049,2134.280029,2130.820068,2130.820068\r\n",
      "2015-05-22,2130.360107,2132.149902,2126.060059,2126.060059\r\n",
      "2015-05-26,2125.340088,2125.340088,2104.199951,2104.199951\r\n",
      "2015-05-27,2105.1298829999996,2126.219971,2123.47998,2123.47998\r\n",
      "2015-05-28,2122.27002,2122.27002,2120.790039,2120.790039\r\n",
      "2015-05-29,2120.659912,2120.659912,2107.389893,2107.389893\r\n",
      "2015-06-01,2108.639893,2119.149902,2111.72998,2111.72998\r\n",
      "2015-06-02,2110.409912,2117.590088,2109.600098,2109.600098\r\n",
      "2015-06-03,2110.639893,2121.919922,2114.070068,2114.070068\r\n",
      "2015-06-04,2112.350098,2112.889893,2095.840088,2095.840088\r\n",
      "2015-06-05,2095.090088,2100.98999,2092.830078,2092.830078\r\n",
      "2015-06-08,2092.340088,2093.01001,2079.280029,2079.280029\r\n",
      "2015-06-09,2079.070068,2085.6201170000004,2080.149902,2080.149902\r\n",
      "2015-06-10,2081.1201170000004,2108.5,2105.199951,2105.199951\r\n",
      "2015-06-11,2106.23999,2115.02002,2108.860107,2108.860107\r\n",
      "2015-06-12,2107.429932,2107.429932,2094.110107,2094.110107\r\n",
      "2015-06-15,2091.340088,2091.340088,2084.429932,2084.429932\r\n",
      "2015-06-16,2084.26001,2097.399902,2096.290039,2096.290039\r\n",
      "2015-06-17,2097.399902,2106.790039,2100.439941,2100.439941\r\n",
      "2015-06-18,2101.580078,2126.649902,2121.23999,2121.23999\r\n",
      "2015-06-19,2121.060059,2121.639893,2109.98999,2109.98999\r\n",
      "2015-06-22,2112.5,2129.8701170000004,2122.850098,2122.850098\r\n",
      "2015-06-23,2123.159912,2128.030029,2124.199951,2124.199951\r\n",
      "2015-06-24,2123.649902,2125.100098,2108.580078,2108.580078\r\n",
      "2015-06-25,2109.959961,2116.040039,2102.310059,2102.310059\r\n",
      "2015-06-26,2102.6201170000004,2108.919922,2101.48999,2101.48999\r\n",
      "2015-06-29,2098.6298829999996,2098.6298829999996,2057.639893,2057.639893\r\n",
      "2015-06-30,2061.189941,2074.280029,2063.110107,2063.110107\r\n",
      "2015-07-01,2067.0,2082.780029,2077.419922,2077.419922\r\n",
      "2015-07-02,2078.030029,2085.060059,2076.780029,2076.780029\r\n",
      "2015-07-06,2073.949951,2078.610107,2068.76001,2068.76001\r\n",
      "2015-07-07,2069.52002,2083.73999,2081.340088,2081.340088\r\n",
      "2015-07-08,2077.659912,2077.659912,2046.680054,2046.680054\r\n",
      "2015-07-09,2049.72998,2074.280029,2051.310059,2051.310059\r\n",
      "2015-07-10,2052.73999,2081.310059,2076.6201170000004,2076.6201170000004\r\n",
      "2015-07-13,2080.030029,2100.669922,2099.600098,2099.600098\r\n",
      "2015-07-14,2099.719971,2111.97998,2108.949951,2108.949951\r\n",
      "2015-07-15,2109.01001,2114.139893,2107.399902,2107.399902\r\n",
      "2015-07-16,2110.550049,2124.419922,2124.290039,2124.290039\r\n",
      "2015-07-17,2126.800049,2128.909912,2126.639893,2126.639893\r\n",
      "2015-07-20,2126.850098,2132.820068,2128.280029,2128.280029\r\n",
      "2015-07-21,2127.550049,2128.48999,2119.209961,2119.209961\r\n",
      "2015-07-22,2118.209961,2118.51001,2114.149902,2114.149902\r\n",
      "2015-07-23,2114.159912,2116.8701170000004,2102.149902,2102.149902\r\n",
      "2015-07-24,2102.23999,2106.01001,2079.649902,2079.649902\r\n",
      "2015-07-27,2078.189941,2078.189941,2067.639893,2067.639893\r\n",
      "2015-07-28,2070.75,2095.600098,2093.25,2093.25\r\n",
      "2015-07-29,2094.699951,2110.600098,2108.570068,2108.570068\r\n",
      "2015-07-30,2106.780029,2110.47998,2108.6298829999996,2108.6298829999996\r\n",
      "2015-07-31,2111.600098,2114.23999,2103.840088,2103.840088\r\n",
      "2015-08-03,2104.48999,2105.699951,2098.040039,2098.040039\r\n",
      "2015-08-04,2097.679932,2102.51001,2093.320068,2093.320068\r\n",
      "2015-08-05,2095.27002,2112.659912,2099.840088,2099.840088\r\n",
      "2015-08-06,2100.75,2103.320068,2083.560059,2083.560059\r\n",
      "2015-08-07,2082.610107,2082.610107,2077.570068,2077.570068\r\n",
      "2015-08-10,2080.97998,2105.350098,2104.179932,2104.179932\r\n",
      "2015-08-11,2102.659912,2102.659912,2084.070068,2084.070068\r\n",
      "2015-08-12,2081.100098,2089.060059,2086.050049,2086.050049\r\n",
      "2015-08-13,2086.189941,2092.929932,2083.389893,2083.389893\r\n",
      "2015-08-14,2083.149902,2092.449951,2091.540039,2091.540039\r\n",
      "2015-08-17,2089.699951,2102.8701170000004,2102.439941,2102.439941\r\n",
      "2015-08-18,2101.98999,2103.469971,2096.919922,2096.919922\r\n",
      "2015-08-19,2095.689941,2096.169922,2079.610107,2079.610107\r\n",
      "2015-08-20,2076.610107,2076.610107,2035.72998,2035.72998\r\n",
      "2015-08-21,2034.0799559999998,2034.0799559999998,1970.890015,1970.890015\r\n",
      "2015-08-24,1965.1500239999998,1965.1500239999998,1893.209961,1893.209961\r\n",
      "2015-08-25,1898.0799559999998,1948.040039,1867.609985,1867.609985\r\n",
      "2015-08-26,1872.75,1943.089966,1940.5100100000002,1940.5100100000002\r\n",
      "2015-08-27,1942.77002,1989.5999760000002,1987.660034,1987.660034\r\n",
      "2015-08-28,1986.060059,1993.47998,1988.869995,1988.869995\r\n",
      "2015-08-31,1986.72998,1986.72998,1972.180054,1972.180054\r\n",
      "2015-09-01,1970.089966,1970.089966,1913.8499760000002,1913.8499760000002\r\n",
      "2015-09-02,1916.52002,1948.910034,1948.859985,1948.859985\r\n",
      "2015-09-03,1950.790039,1975.0100100000002,1951.130005,1951.130005\r\n",
      "2015-09-04,1947.7600100000002,1947.7600100000002,1921.219971,1921.219971\r\n",
      "2015-09-08,1927.300049,1970.4200440000002,1969.410034,1969.410034\r\n",
      "2015-09-09,1971.449951,1988.630005,1942.040039,1942.040039\r\n",
      "2015-09-10,1941.589966,1965.290039,1952.290039,1952.290039\r\n",
      "2015-09-11,1951.449951,1961.050049,1961.050049,1961.050049\r\n",
      "2015-09-14,1963.060059,1963.060059,1953.030029,1953.030029\r\n",
      "2015-09-15,1955.0999760000002,1983.189941,1978.089966,1978.089966\r\n",
      "2015-09-16,1978.02002,1997.2600100000002,1995.310059,1995.310059\r\n",
      "2015-09-17,1995.3299559999998,2020.859985,1990.199951,1990.199951\r\n",
      "2015-09-18,1989.660034,1989.660034,1958.030029,1958.030029\r\n",
      "2015-09-21,1960.839966,1979.640015,1966.969971,1966.969971\r\n",
      "2015-09-22,1961.390015,1961.390015,1942.7399899999998,1942.7399899999998\r\n",
      "2015-09-23,1943.2399899999998,1949.52002,1938.7600100000002,1938.7600100000002\r\n",
      "2015-09-24,1934.810059,1937.1700440000002,1932.2399899999998,1932.2399899999998\r\n",
      "2015-09-25,1935.930054,1952.890015,1931.339966,1931.339966\r\n",
      "2015-09-28,1929.180054,1929.180054,1881.77002,1881.77002\r\n",
      "2015-09-29,1881.9000239999998,1899.47998,1884.089966,1884.089966\r\n",
      "2015-09-30,1887.140015,1920.530029,1920.030029,1920.030029\r\n",
      "2015-10-01,1919.6500239999998,1927.209961,1923.819946,1923.819946\r\n",
      "2015-10-02,1921.77002,1951.359985,1951.359985,1951.359985\r\n",
      "2015-10-05,1954.3299559999998,1989.1700440000002,1987.050049,1987.050049\r\n",
      "2015-10-06,1986.630005,1991.619995,1979.9200440000002,1979.9200440000002\r\n",
      "2015-10-07,1982.339966,1999.310059,1995.8299559999998,1995.8299559999998\r\n",
      "2015-10-08,1994.0100100000002,2016.5,2013.430054,2013.430054\r\n",
      "2015-10-09,2013.72998,2020.130005,2014.890015,2014.890015\r\n",
      "2015-10-12,2015.6500239999998,2018.660034,2017.459961,2017.459961\r\n",
      "2015-10-13,2015.0,2022.339966,2003.689941,2003.689941\r\n",
      "2015-10-14,2003.660034,2009.560059,1994.2399899999998,1994.2399899999998\r\n",
      "2015-10-15,1996.469971,2024.1500239999998,2023.859985,2023.859985\r\n",
      "2015-10-16,2024.369995,2033.540039,2033.109985,2033.109985\r\n",
      "2015-10-19,2031.72998,2034.449951,2033.660034,2033.660034\r\n",
      "2015-10-20,2033.130005,2039.119995,2030.77002,2030.77002\r\n",
      "2015-10-21,2033.469971,2037.969971,2018.939941,2018.939941\r\n",
      "2015-10-22,2021.880005,2055.199951,2052.51001,2052.51001\r\n",
      "2015-10-23,2058.189941,2079.73999,2075.149902,2075.149902\r\n",
      "2015-10-26,2075.080078,2075.139893,2071.179932,2071.179932\r\n",
      "2015-10-27,2068.75,2070.3701170000004,2065.889893,2065.889893\r\n",
      "2015-10-28,2066.47998,2090.350098,2090.350098,2090.350098\r\n",
      "2015-10-29,2088.350098,2092.52002,2089.409912,2089.409912\r\n",
      "2015-10-30,2090.0,2094.320068,2079.360107,2079.360107\r\n",
      "2015-11-02,2080.76001,2106.199951,2104.050049,2104.050049\r\n",
      "2015-11-03,2102.6298829999996,2116.47998,2109.790039,2109.790039\r\n",
      "2015-11-04,2110.600098,2114.590088,2102.310059,2102.310059\r\n",
      "2015-11-05,2101.679932,2108.780029,2099.929932,2099.929932\r\n",
      "2015-11-06,2098.600098,2101.909912,2099.199951,2099.199951\r\n",
      "2015-11-09,2096.560059,2096.560059,2078.580078,2078.580078\r\n",
      "2015-11-10,2077.189941,2083.669922,2081.719971,2081.719971\r\n",
      "2015-11-11,2083.409912,2086.939941,2075.0,2075.0\r\n",
      "2015-11-12,2072.290039,2072.290039,2045.969971,2045.969971\r\n",
      "2015-11-13,2044.640015,2044.640015,2023.040039,2023.040039\r\n",
      "2015-11-16,2022.0799559999998,2053.219971,2053.189941,2053.189941\r\n",
      "2015-11-17,2053.669922,2066.689941,2050.439941,2050.439941\r\n",
      "2015-11-18,2051.98999,2085.310059,2083.580078,2083.580078\r\n",
      "2015-11-19,2083.699951,2086.73999,2081.23999,2081.23999\r\n",
      "2015-11-20,2082.820068,2097.060059,2089.169922,2089.169922\r\n",
      "2015-11-23,2089.409912,2095.610107,2086.590088,2086.590088\r\n",
      "2015-11-24,2084.419922,2094.1201170000004,2089.139893,2089.139893\r\n",
      "2015-11-25,2089.300049,2093.0,2088.8701170000004,2088.8701170000004\r\n",
      "2015-11-27,2088.820068,2093.290039,2090.110107,2090.110107\r\n",
      "2015-11-30,2090.949951,2093.810059,2080.409912,2080.409912\r\n",
      "2015-12-01,2082.929932,2103.3701170000004,2102.6298829999996,2102.6298829999996\r\n",
      "2015-12-02,2101.709961,2104.27002,2079.51001,2079.51001\r\n",
      "2015-12-03,2080.709961,2085.0,2049.6201170000004,2049.6201170000004\r\n",
      "2015-12-04,2051.23999,2093.840088,2091.689941,2091.689941\r\n",
      "2015-12-07,2090.419922,2090.419922,2077.070068,2077.070068\r\n",
      "2015-12-08,2073.389893,2073.850098,2063.590088,2063.590088\r\n",
      "2015-12-09,2061.169922,2080.330078,2047.619995,2047.619995\r\n",
      "2015-12-10,2047.930054,2067.649902,2052.22998,2052.22998\r\n",
      "2015-12-11,2047.27002,2047.27002,2012.369995,2012.369995\r\n",
      "2015-12-14,2013.369995,2022.9200440000002,2021.939941,2021.939941\r\n",
      "2015-12-15,2025.550049,2053.8701170000004,2043.410034,2043.410034\r\n",
      "2015-12-16,2046.5,2076.719971,2073.070068,2073.070068\r\n",
      "2015-12-17,2073.76001,2076.3701170000004,2041.890015,2041.890015\r\n",
      "2015-12-18,2040.810059,2040.810059,2005.550049,2005.550049\r\n",
      "2015-12-21,2010.27002,2022.9000239999998,2021.1500239999998,2021.1500239999998\r\n",
      "2015-12-22,2023.1500239999998,2042.7399899999998,2038.969971,2038.969971\r\n",
      "2015-12-23,2042.199951,2064.72998,2064.290039,2064.290039\r\n",
      "2015-12-24,2063.52002,2067.360107,2060.98999,2060.98999\r\n",
      "2015-12-28,2057.77002,2057.77002,2056.5,2056.5\r\n",
      "2015-12-29,2060.540039,2081.560059,2078.360107,2078.360107\r\n",
      "2015-12-30,2077.340088,2077.340088,2063.360107,2063.360107\r\n",
      "2015-12-31,2060.590088,2062.540039,2043.939941,2043.939941\r\n"
     ]
    }
   ],
   "source": [
    "!cut -f 1-3,5,7 -d, data/sp500.csv"
   ]
  },
  {
   "cell_type": "markdown",
   "metadata": {},
   "source": [
    "The above cut command means \"select columns 1 through 3 and columns 5 and 7, using comma as the separator\". cut uses -f (meaning \"fields\") to specify columns and -d (meaning \"delimiter\") to specify the separator. We need to specify the latter because some files may use spaces, tabs, or colons to separate columns."
   ]
  },
  {
   "cell_type": "code",
   "execution_count": 64,
   "metadata": {},
   "outputs": [
    {
     "name": "stdout",
     "output_type": "stream",
     "text": [
      "Date,Open,High,Close,Adj Close\r\n",
      "2015-01-02,2058.899902,2072.360107,2058.199951,2058.199951\r\n",
      "2015-01-05,2054.439941,2054.439941,2020.5799559999998,2020.5799559999998\r\n",
      "2015-01-06,2022.1500239999998,2030.25,2002.609985,2002.609985\r\n",
      "2015-01-07,2005.550049,2029.609985,2025.9000239999998,2025.9000239999998\r\n",
      "2015-01-08,2030.609985,2064.080078,2062.139893,2062.139893\r\n",
      "2015-01-09,2063.449951,2064.429932,2044.810059,2044.810059\r\n",
      "2015-01-12,2046.130005,2049.300049,2028.2600100000002,2028.2600100000002\r\n",
      "2015-01-13,2031.5799559999998,2056.929932,2023.030029,2023.030029\r\n",
      "2015-01-14,2018.4000239999998,2018.4000239999998,2011.27002,2011.27002\r\n",
      "2015-01-15,2013.75,2021.3499760000002,1992.6700440000002,1992.6700440000002\r\n",
      "2015-01-16,1992.25,2020.459961,2019.4200440000002,2019.4200440000002\r\n",
      "2015-01-20,2020.7600100000002,2028.939941,2022.550049,2022.550049\r\n",
      "2015-01-21,2020.189941,2038.290039,2032.119995,2032.119995\r\n",
      "2015-01-22,2034.300049,2064.6201170000004,2063.149902,2063.149902\r\n",
      "2015-01-23,2062.97998,2062.97998,2051.820068,2051.820068\r\n",
      "2015-01-26,2050.419922,2057.6201170000004,2057.090088,2057.090088\r\n",
      "2015-01-27,2047.859985,2047.859985,2029.550049,2029.550049\r\n",
      "2015-01-28,2032.339966,2042.4899899999998,2002.160034,2002.160034\r\n",
      "2015-01-29,2002.449951,2024.640015,2021.25,2021.25\r\n",
      "2015-01-30,2019.3499760000002,2023.319946,1994.9899899999998,1994.9899899999998\r\n",
      "2015-02-02,1996.6700440000002,2021.660034,2020.8499760000002,2020.8499760000002\r\n",
      "2015-02-03,2022.709961,2050.300049,2050.030029,2050.030029\r\n",
      "2015-02-04,2048.860107,2054.73999,2041.5100100000002,2041.5100100000002\r\n",
      "2015-02-05,2043.449951,2063.550049,2062.52002,2062.52002\r\n",
      "2015-02-06,2062.280029,2072.399902,2055.469971,2055.469971\r\n",
      "2015-02-09,2053.469971,2056.159912,2046.7399899999998,2046.7399899999998\r\n",
      "2015-02-10,2049.3798829999996,2070.860107,2068.590088,2068.590088\r\n",
      "2015-02-11,2068.550049,2073.47998,2068.530029,2068.530029\r\n",
      "2015-02-12,2069.97998,2088.530029,2088.47998,2088.47998\r\n",
      "2015-02-13,2088.780029,2097.030029,2096.98999,2096.98999\r\n",
      "2015-02-17,2096.469971,2101.300049,2100.340088,2100.340088\r\n",
      "2015-02-18,2099.159912,2100.22998,2099.679932,2099.679932\r\n",
      "2015-02-19,2099.25,2102.1298829999996,2097.449951,2097.449951\r\n",
      "2015-02-20,2097.649902,2110.610107,2110.300049,2110.300049\r\n",
      "2015-02-23,2109.830078,2110.050049,2109.659912,2109.659912\r\n",
      "2015-02-24,2109.100098,2117.939941,2115.47998,2115.47998\r\n",
      "2015-02-25,2115.300049,2119.590088,2113.860107,2113.860107\r\n",
      "2015-02-26,2113.909912,2113.909912,2110.73999,2110.73999\r\n",
      "2015-02-27,2110.8798829999996,2112.73999,2104.5,2104.5\r\n",
      "2015-03-02,2105.22998,2117.52002,2117.389893,2117.389893\r\n",
      "2015-03-03,2115.76001,2115.76001,2107.780029,2107.780029\r\n",
      "2015-03-04,2107.719971,2107.719971,2098.530029,2098.530029\r\n",
      "2015-03-05,2098.540039,2104.25,2101.040039,2101.040039\r\n",
      "2015-03-06,2100.909912,2100.909912,2071.26001,2071.26001\r\n",
      "2015-03-09,2072.25,2083.48999,2079.429932,2079.429932\r\n",
      "2015-03-10,2076.139893,2076.139893,2044.160034,2044.160034\r\n",
      "2015-03-11,2044.689941,2050.080078,2040.2399899999998,2040.2399899999998\r\n",
      "2015-03-12,2041.0999760000002,2066.409912,2065.949951,2065.949951\r\n",
      "2015-03-13,2064.560059,2064.560059,2053.399902,2053.399902\r\n",
      "2015-03-16,2055.350098,2081.409912,2081.189941,2081.189941\r\n",
      "2015-03-17,2080.590088,2080.590088,2074.280029,2074.280029\r\n",
      "2015-03-18,2072.840088,2106.850098,2099.5,2099.5\r\n",
      "2015-03-19,2098.689941,2098.689941,2089.27002,2089.27002\r\n",
      "2015-03-20,2090.320068,2113.919922,2108.100098,2108.100098\r\n",
      "2015-03-23,2107.98999,2114.860107,2104.419922,2104.419922\r\n",
      "2015-03-24,2103.939941,2107.6298829999996,2091.5,2091.5\r\n",
      "2015-03-25,2093.100098,2097.429932,2061.050049,2061.050049\r\n",
      "2015-03-26,2059.939941,2067.149902,2056.149902,2056.149902\r\n",
      "2015-03-27,2055.780029,2062.830078,2061.02002,2061.02002\r\n",
      "2015-03-30,2064.110107,2088.969971,2086.23999,2086.23999\r\n",
      "2015-03-31,2084.050049,2084.050049,2067.889893,2067.889893\r\n",
      "2015-04-01,2067.6298829999996,2067.6298829999996,2059.689941,2059.689941\r\n",
      "2015-04-02,2060.030029,2072.169922,2066.959961,2066.959961\r\n",
      "2015-04-06,2064.8701170000004,2086.98999,2080.6201170000004,2080.6201170000004\r\n",
      "2015-04-07,2080.790039,2089.810059,2076.330078,2076.330078\r\n",
      "2015-04-08,2076.939941,2086.689941,2081.899902,2081.899902\r\n",
      "2015-04-09,2081.290039,2093.310059,2091.179932,2091.179932\r\n",
      "2015-04-10,2091.51001,2102.610107,2102.060059,2102.060059\r\n",
      "2015-04-13,2102.030029,2107.649902,2092.429932,2092.429932\r\n",
      "2015-04-14,2092.280029,2098.6201170000004,2095.840088,2095.840088\r\n",
      "2015-04-15,2097.820068,2111.909912,2106.6298829999996,2106.6298829999996\r\n",
      "2015-04-16,2105.959961,2111.300049,2104.98999,2104.98999\r\n",
      "2015-04-17,2102.580078,2102.580078,2081.179932,2081.179932\r\n",
      "2015-04-20,2084.110107,2103.939941,2100.399902,2100.399902\r\n",
      "2015-04-21,2102.820068,2109.639893,2097.290039,2097.290039\r\n",
      "2015-04-22,2098.27002,2109.97998,2107.959961,2107.959961\r\n",
      "2015-04-23,2107.209961,2120.48999,2112.929932,2112.929932\r\n",
      "2015-04-24,2112.800049,2120.919922,2117.689941,2117.689941\r\n",
      "2015-04-27,2119.290039,2125.919922,2108.919922,2108.919922\r\n",
      "2015-04-28,2108.350098,2116.040039,2114.76001,2114.76001\r\n",
      "2015-04-29,2112.48999,2113.649902,2106.850098,2106.850098\r\n",
      "2015-04-30,2105.52002,2105.52002,2085.51001,2085.51001\r\n",
      "2015-05-01,2087.3798829999996,2108.409912,2108.290039,2108.290039\r\n",
      "2015-05-04,2110.22998,2120.949951,2114.48999,2114.48999\r\n",
      "2015-05-05,2112.6298829999996,2115.23999,2089.459961,2089.459961\r\n",
      "2015-05-06,2091.26001,2098.419922,2080.149902,2080.149902\r\n",
      "2015-05-07,2079.959961,2092.899902,2088.0,2088.0\r\n",
      "2015-05-08,2092.1298829999996,2117.659912,2116.100098,2116.100098\r\n",
      "2015-05-11,2115.560059,2117.689941,2105.330078,2105.330078\r\n",
      "2015-05-12,2102.8701170000004,2105.060059,2099.1201170000004,2099.1201170000004\r\n",
      "2015-05-13,2099.6201170000004,2110.189941,2098.47998,2098.47998\r\n",
      "2015-05-14,2100.429932,2121.449951,2121.100098,2121.100098\r\n",
      "2015-05-15,2122.070068,2123.889893,2122.72998,2122.72998\r\n",
      "2015-05-18,2121.300049,2131.780029,2129.199951,2129.199951\r\n",
      "2015-05-19,2129.449951,2133.02002,2127.830078,2127.830078\r\n",
      "2015-05-20,2127.790039,2134.719971,2125.850098,2125.850098\r\n",
      "2015-05-21,2125.550049,2134.280029,2130.820068,2130.820068\r\n",
      "2015-05-22,2130.360107,2132.149902,2126.060059,2126.060059\r\n",
      "2015-05-26,2125.340088,2125.340088,2104.199951,2104.199951\r\n",
      "2015-05-27,2105.1298829999996,2126.219971,2123.47998,2123.47998\r\n",
      "2015-05-28,2122.27002,2122.27002,2120.790039,2120.790039\r\n",
      "2015-05-29,2120.659912,2120.659912,2107.389893,2107.389893\r\n",
      "2015-06-01,2108.639893,2119.149902,2111.72998,2111.72998\r\n",
      "2015-06-02,2110.409912,2117.590088,2109.600098,2109.600098\r\n",
      "2015-06-03,2110.639893,2121.919922,2114.070068,2114.070068\r\n",
      "2015-06-04,2112.350098,2112.889893,2095.840088,2095.840088\r\n",
      "2015-06-05,2095.090088,2100.98999,2092.830078,2092.830078\r\n",
      "2015-06-08,2092.340088,2093.01001,2079.280029,2079.280029\r\n",
      "2015-06-09,2079.070068,2085.6201170000004,2080.149902,2080.149902\r\n",
      "2015-06-10,2081.1201170000004,2108.5,2105.199951,2105.199951\r\n",
      "2015-06-11,2106.23999,2115.02002,2108.860107,2108.860107\r\n",
      "2015-06-12,2107.429932,2107.429932,2094.110107,2094.110107\r\n",
      "2015-06-15,2091.340088,2091.340088,2084.429932,2084.429932\r\n",
      "2015-06-16,2084.26001,2097.399902,2096.290039,2096.290039\r\n",
      "2015-06-17,2097.399902,2106.790039,2100.439941,2100.439941\r\n",
      "2015-06-18,2101.580078,2126.649902,2121.23999,2121.23999\r\n",
      "2015-06-19,2121.060059,2121.639893,2109.98999,2109.98999\r\n",
      "2015-06-22,2112.5,2129.8701170000004,2122.850098,2122.850098\r\n",
      "2015-06-23,2123.159912,2128.030029,2124.199951,2124.199951\r\n",
      "2015-06-24,2123.649902,2125.100098,2108.580078,2108.580078\r\n",
      "2015-06-25,2109.959961,2116.040039,2102.310059,2102.310059\r\n",
      "2015-06-26,2102.6201170000004,2108.919922,2101.48999,2101.48999\r\n",
      "2015-06-29,2098.6298829999996,2098.6298829999996,2057.639893,2057.639893\r\n",
      "2015-06-30,2061.189941,2074.280029,2063.110107,2063.110107\r\n",
      "2015-07-01,2067.0,2082.780029,2077.419922,2077.419922\r\n",
      "2015-07-02,2078.030029,2085.060059,2076.780029,2076.780029\r\n",
      "2015-07-06,2073.949951,2078.610107,2068.76001,2068.76001\r\n",
      "2015-07-07,2069.52002,2083.73999,2081.340088,2081.340088\r\n",
      "2015-07-08,2077.659912,2077.659912,2046.680054,2046.680054\r\n",
      "2015-07-09,2049.72998,2074.280029,2051.310059,2051.310059\r\n",
      "2015-07-10,2052.73999,2081.310059,2076.6201170000004,2076.6201170000004\r\n",
      "2015-07-13,2080.030029,2100.669922,2099.600098,2099.600098\r\n",
      "2015-07-14,2099.719971,2111.97998,2108.949951,2108.949951\r\n",
      "2015-07-15,2109.01001,2114.139893,2107.399902,2107.399902\r\n",
      "2015-07-16,2110.550049,2124.419922,2124.290039,2124.290039\r\n",
      "2015-07-17,2126.800049,2128.909912,2126.639893,2126.639893\r\n",
      "2015-07-20,2126.850098,2132.820068,2128.280029,2128.280029\r\n",
      "2015-07-21,2127.550049,2128.48999,2119.209961,2119.209961\r\n",
      "2015-07-22,2118.209961,2118.51001,2114.149902,2114.149902\r\n",
      "2015-07-23,2114.159912,2116.8701170000004,2102.149902,2102.149902\r\n",
      "2015-07-24,2102.23999,2106.01001,2079.649902,2079.649902\r\n",
      "2015-07-27,2078.189941,2078.189941,2067.639893,2067.639893\r\n",
      "2015-07-28,2070.75,2095.600098,2093.25,2093.25\r\n",
      "2015-07-29,2094.699951,2110.600098,2108.570068,2108.570068\r\n",
      "2015-07-30,2106.780029,2110.47998,2108.6298829999996,2108.6298829999996\r\n",
      "2015-07-31,2111.600098,2114.23999,2103.840088,2103.840088\r\n",
      "2015-08-03,2104.48999,2105.699951,2098.040039,2098.040039\r\n",
      "2015-08-04,2097.679932,2102.51001,2093.320068,2093.320068\r\n",
      "2015-08-05,2095.27002,2112.659912,2099.840088,2099.840088\r\n",
      "2015-08-06,2100.75,2103.320068,2083.560059,2083.560059\r\n",
      "2015-08-07,2082.610107,2082.610107,2077.570068,2077.570068\r\n",
      "2015-08-10,2080.97998,2105.350098,2104.179932,2104.179932\r\n",
      "2015-08-11,2102.659912,2102.659912,2084.070068,2084.070068\r\n",
      "2015-08-12,2081.100098,2089.060059,2086.050049,2086.050049\r\n",
      "2015-08-13,2086.189941,2092.929932,2083.389893,2083.389893\r\n",
      "2015-08-14,2083.149902,2092.449951,2091.540039,2091.540039\r\n",
      "2015-08-17,2089.699951,2102.8701170000004,2102.439941,2102.439941\r\n",
      "2015-08-18,2101.98999,2103.469971,2096.919922,2096.919922\r\n",
      "2015-08-19,2095.689941,2096.169922,2079.610107,2079.610107\r\n",
      "2015-08-20,2076.610107,2076.610107,2035.72998,2035.72998\r\n",
      "2015-08-21,2034.0799559999998,2034.0799559999998,1970.890015,1970.890015\r\n",
      "2015-08-24,1965.1500239999998,1965.1500239999998,1893.209961,1893.209961\r\n",
      "2015-08-25,1898.0799559999998,1948.040039,1867.609985,1867.609985\r\n",
      "2015-08-26,1872.75,1943.089966,1940.5100100000002,1940.5100100000002\r\n",
      "2015-08-27,1942.77002,1989.5999760000002,1987.660034,1987.660034\r\n",
      "2015-08-28,1986.060059,1993.47998,1988.869995,1988.869995\r\n",
      "2015-08-31,1986.72998,1986.72998,1972.180054,1972.180054\r\n",
      "2015-09-01,1970.089966,1970.089966,1913.8499760000002,1913.8499760000002\r\n",
      "2015-09-02,1916.52002,1948.910034,1948.859985,1948.859985\r\n",
      "2015-09-03,1950.790039,1975.0100100000002,1951.130005,1951.130005\r\n",
      "2015-09-04,1947.7600100000002,1947.7600100000002,1921.219971,1921.219971\r\n",
      "2015-09-08,1927.300049,1970.4200440000002,1969.410034,1969.410034\r\n",
      "2015-09-09,1971.449951,1988.630005,1942.040039,1942.040039\r\n",
      "2015-09-10,1941.589966,1965.290039,1952.290039,1952.290039\r\n",
      "2015-09-11,1951.449951,1961.050049,1961.050049,1961.050049\r\n",
      "2015-09-14,1963.060059,1963.060059,1953.030029,1953.030029\r\n",
      "2015-09-15,1955.0999760000002,1983.189941,1978.089966,1978.089966\r\n",
      "2015-09-16,1978.02002,1997.2600100000002,1995.310059,1995.310059\r\n",
      "2015-09-17,1995.3299559999998,2020.859985,1990.199951,1990.199951\r\n",
      "2015-09-18,1989.660034,1989.660034,1958.030029,1958.030029\r\n",
      "2015-09-21,1960.839966,1979.640015,1966.969971,1966.969971\r\n",
      "2015-09-22,1961.390015,1961.390015,1942.7399899999998,1942.7399899999998\r\n",
      "2015-09-23,1943.2399899999998,1949.52002,1938.7600100000002,1938.7600100000002\r\n",
      "2015-09-24,1934.810059,1937.1700440000002,1932.2399899999998,1932.2399899999998\r\n",
      "2015-09-25,1935.930054,1952.890015,1931.339966,1931.339966\r\n",
      "2015-09-28,1929.180054,1929.180054,1881.77002,1881.77002\r\n",
      "2015-09-29,1881.9000239999998,1899.47998,1884.089966,1884.089966\r\n",
      "2015-09-30,1887.140015,1920.530029,1920.030029,1920.030029\r\n",
      "2015-10-01,1919.6500239999998,1927.209961,1923.819946,1923.819946\r\n",
      "2015-10-02,1921.77002,1951.359985,1951.359985,1951.359985\r\n",
      "2015-10-05,1954.3299559999998,1989.1700440000002,1987.050049,1987.050049\r\n",
      "2015-10-06,1986.630005,1991.619995,1979.9200440000002,1979.9200440000002\r\n",
      "2015-10-07,1982.339966,1999.310059,1995.8299559999998,1995.8299559999998\r\n",
      "2015-10-08,1994.0100100000002,2016.5,2013.430054,2013.430054\r\n",
      "2015-10-09,2013.72998,2020.130005,2014.890015,2014.890015\r\n",
      "2015-10-12,2015.6500239999998,2018.660034,2017.459961,2017.459961\r\n",
      "2015-10-13,2015.0,2022.339966,2003.689941,2003.689941\r\n",
      "2015-10-14,2003.660034,2009.560059,1994.2399899999998,1994.2399899999998\r\n",
      "2015-10-15,1996.469971,2024.1500239999998,2023.859985,2023.859985\r\n",
      "2015-10-16,2024.369995,2033.540039,2033.109985,2033.109985\r\n",
      "2015-10-19,2031.72998,2034.449951,2033.660034,2033.660034\r\n",
      "2015-10-20,2033.130005,2039.119995,2030.77002,2030.77002\r\n",
      "2015-10-21,2033.469971,2037.969971,2018.939941,2018.939941\r\n",
      "2015-10-22,2021.880005,2055.199951,2052.51001,2052.51001\r\n",
      "2015-10-23,2058.189941,2079.73999,2075.149902,2075.149902\r\n",
      "2015-10-26,2075.080078,2075.139893,2071.179932,2071.179932\r\n",
      "2015-10-27,2068.75,2070.3701170000004,2065.889893,2065.889893\r\n",
      "2015-10-28,2066.47998,2090.350098,2090.350098,2090.350098\r\n",
      "2015-10-29,2088.350098,2092.52002,2089.409912,2089.409912\r\n",
      "2015-10-30,2090.0,2094.320068,2079.360107,2079.360107\r\n",
      "2015-11-02,2080.76001,2106.199951,2104.050049,2104.050049\r\n",
      "2015-11-03,2102.6298829999996,2116.47998,2109.790039,2109.790039\r\n",
      "2015-11-04,2110.600098,2114.590088,2102.310059,2102.310059\r\n",
      "2015-11-05,2101.679932,2108.780029,2099.929932,2099.929932\r\n",
      "2015-11-06,2098.600098,2101.909912,2099.199951,2099.199951\r\n",
      "2015-11-09,2096.560059,2096.560059,2078.580078,2078.580078\r\n",
      "2015-11-10,2077.189941,2083.669922,2081.719971,2081.719971\r\n",
      "2015-11-11,2083.409912,2086.939941,2075.0,2075.0\r\n",
      "2015-11-12,2072.290039,2072.290039,2045.969971,2045.969971\r\n",
      "2015-11-13,2044.640015,2044.640015,2023.040039,2023.040039\r\n",
      "2015-11-16,2022.0799559999998,2053.219971,2053.189941,2053.189941\r\n",
      "2015-11-17,2053.669922,2066.689941,2050.439941,2050.439941\r\n",
      "2015-11-18,2051.98999,2085.310059,2083.580078,2083.580078\r\n",
      "2015-11-19,2083.699951,2086.73999,2081.23999,2081.23999\r\n",
      "2015-11-20,2082.820068,2097.060059,2089.169922,2089.169922\r\n",
      "2015-11-23,2089.409912,2095.610107,2086.590088,2086.590088\r\n",
      "2015-11-24,2084.419922,2094.1201170000004,2089.139893,2089.139893\r\n",
      "2015-11-25,2089.300049,2093.0,2088.8701170000004,2088.8701170000004\r\n",
      "2015-11-27,2088.820068,2093.290039,2090.110107,2090.110107\r\n",
      "2015-11-30,2090.949951,2093.810059,2080.409912,2080.409912\r\n",
      "2015-12-01,2082.929932,2103.3701170000004,2102.6298829999996,2102.6298829999996\r\n",
      "2015-12-02,2101.709961,2104.27002,2079.51001,2079.51001\r\n",
      "2015-12-03,2080.709961,2085.0,2049.6201170000004,2049.6201170000004\r\n",
      "2015-12-04,2051.23999,2093.840088,2091.689941,2091.689941\r\n",
      "2015-12-07,2090.419922,2090.419922,2077.070068,2077.070068\r\n",
      "2015-12-08,2073.389893,2073.850098,2063.590088,2063.590088\r\n",
      "2015-12-09,2061.169922,2080.330078,2047.619995,2047.619995\r\n",
      "2015-12-10,2047.930054,2067.649902,2052.22998,2052.22998\r\n",
      "2015-12-11,2047.27002,2047.27002,2012.369995,2012.369995\r\n",
      "2015-12-14,2013.369995,2022.9200440000002,2021.939941,2021.939941\r\n",
      "2015-12-15,2025.550049,2053.8701170000004,2043.410034,2043.410034\r\n",
      "2015-12-16,2046.5,2076.719971,2073.070068,2073.070068\r\n",
      "2015-12-17,2073.76001,2076.3701170000004,2041.890015,2041.890015\r\n",
      "2015-12-18,2040.810059,2040.810059,2005.550049,2005.550049\r\n",
      "2015-12-21,2010.27002,2022.9000239999998,2021.1500239999998,2021.1500239999998\r\n",
      "2015-12-22,2023.1500239999998,2042.7399899999998,2038.969971,2038.969971\r\n",
      "2015-12-23,2042.199951,2064.72998,2064.290039,2064.290039\r\n",
      "2015-12-24,2063.52002,2067.360107,2060.98999,2060.98999\r\n",
      "2015-12-28,2057.77002,2057.77002,2056.5,2056.5\r\n",
      "2015-12-29,2060.540039,2081.560059,2078.360107,2078.360107\r\n",
      "2015-12-30,2077.340088,2077.340088,2063.360107,2063.360107\r\n",
      "2015-12-31,2060.590088,2062.540039,2043.939941,2043.939941\r\n"
     ]
    }
   ],
   "source": [
    "!cut -d, -f 1-3,5,7 data/sp500.csv"
   ]
  },
  {
   "cell_type": "markdown",
   "metadata": {},
   "source": [
    "It's also possible to change the positions of the flags. "
   ]
  },
  {
   "cell_type": "code",
   "execution_count": 66,
   "metadata": {},
   "outputs": [
    {
     "name": "stdout",
     "output_type": "stream",
     "text": [
      "/Users/sushantmore/Documents/DS/projects/shellScripting\r\n"
     ]
    }
   ],
   "source": [
    "!pwd"
   ]
  },
  {
   "cell_type": "code",
   "execution_count": 68,
   "metadata": {},
   "outputs": [
    {
     "name": "stdout",
     "output_type": "stream",
     "text": [
      "pwd\n",
      "ls\n",
      "ls data/\n",
      "cp data/seasonal2/ data/seasonal\n",
      "cp -r data/seasonal2/ data/seasonal\n",
      "ls data/\n",
      "rmdir data/seasonal2/\n",
      "ls data/seasonal2/\n",
      "rm data/seasonal2/*\n",
      "ls data/seasonal2/backup/\n",
      "rm data/seasonal2/backup/* data/seasonal2/backup2/*\n",
      "rmdir data/seasonal2/\n",
      "ls data/seasonal2/backup\n",
      "rmdir data/seasonal2/backup/ data/seasonal2/backup2/\n",
      "rmdir data/seasonal2/\n",
      "ls data/seasonal2/\n",
      "rmdir data/seasonal2/\n",
      "ls data/seasonal2/\n",
      "rm data/seasonal2/\n",
      "rmdir data/seasonal2/\n",
      "!rmdir data/seasonal2/\n",
      "ls -a data/seasonal2/\n",
      "rm data/seasonal2/*\n",
      "rm data/seasonal2/.*\n",
      "rm data/seasonal2/.DS_Store\n",
      "rm data/seasonal2/.DS_Store/\n",
      "pwd\n",
      "ls -R\n",
      "ls data/seasonal2/\n",
      "cd ..\n",
      "ls -R\n",
      "cd shellScripting/\n",
      "ls -F\n",
      "ls -R -F\n",
      "man head\n",
      "man tail\n",
      "!man tail\n",
      "man tail\n",
      "!man tail\n",
      "pwd\n",
      "head data/sp500.csv\n",
      "!head data/sp500.csv\n",
      "cut -f 1-3, 6 -d, data/sp500.csv\n",
      "!cut -f 1-3, 6 -d, data/sp500.csv\n",
      "!cut -f 1-3,6 -d, data/sp500.csv\n",
      "!cut -f 1-3, 6 -d, data/sp500.csv\n",
      "!cut -f 1-3,6 -d , data/sp500.csv\n",
      "!cut -f 1-3,6 -d, data/sp500.csv\n",
      "!head cut -f 1-3,6 -d, data/sp500.csv\n",
      "!head | cut -f 1-3,6 -d, data/sp500.csv\n",
      "!cut -f 1-3,6 -d, data/sp500.csv\n",
      "!cut -f 1-3,6 -d, data/sp500.csv\n",
      "!cut -f 1-3,6 -d,8 data/sp500.csv\n",
      "!cut -f 1-3,6,8 -d, data/sp500.csv\n",
      "!cut -f 1-3,6-8 -d, data/sp500.csv\n",
      "!cut -f 1-3,6,8 -d, data/sp500.csv\n",
      "!cut -f 1-3, 6,8 -d, data/sp500.csv\n",
      "!cut -f 1-3,6, 8 -d, data/sp500.csv\n",
      "!cut -f 1-3,6,8 -d, data/sp500.csv\n",
      "!cut -f 1-3,6-6,8 -d, data/sp500.csv\n",
      "!cut -f 1-3,6-6,8- -d, data/sp500.csv\n",
      "!cut -f 1-3,5 -d, data/sp500.csv\n",
      "!cut -f 1-3,5,7 -d, data/sp500.csv\n",
      "!cut -d, -f 1-3,5,7 data/sp500.csv\n",
      "!history\n",
      "!pwd\n",
      "!history\n",
      "history\n"
     ]
    }
   ],
   "source": [
    "history"
   ]
  },
  {
   "cell_type": "markdown",
   "metadata": {},
   "source": [
    "When done on a terminal, history outputs a list along with the corresponding serial numbers. \n",
    "Doing !5 will run the 5th command in the history. Also we can re-run a command by typing an exclamation mark followed by the command's name. E.g, !head will rerun the most recent use of that command. "
   ]
  },
  {
   "cell_type": "markdown",
   "metadata": {
    "collapsed": true
   },
   "source": [
    "** Selecting lines containing particular values **\n",
    "\n",
    "head and tail select rows, cut selects columns, and grep selects lines according to what they contain. In its simplest form, grep takes a piece of text followed by one or more filenames and prints all of the lines in those files that contain that text. For example, grep bicuspid seasonal/winter.csv prints all of the lines from the winter data that contain \"bicuspid\".\n",
    "\n",
    "Following are grep's common flags:\n",
    "\n",
    "-c: print a count of matching lines rather than the lines themselves;\n",
    "-h: do not print the names of files when searching multiple files;\n",
    "-i: ignore case (e.g., treat \"Regression\" and \"regression\" as matches);\n",
    "-l: print the names of files that contain matches, not the matches;\n",
    "-n: print line numbers for matching lines;\n",
    "-v: invert the match, i.e., only show lines that don't match;"
   ]
  },
  {
   "cell_type": "code",
   "execution_count": 3,
   "metadata": {},
   "outputs": [
    {
     "name": "stdout",
     "output_type": "stream",
     "text": [
      "18,1,2,\"Williams, Mr. Charles Eugene\",male,,0,0,244373,13,,S\r",
      "\r\n",
      "156,0,1,\"Williams, Mr. Charles Duane\",male,51,0,1,PC 17597,61.3792,,C\r",
      "\r\n",
      "305,0,3,\"Williams, Mr. Howard Hugh \"\"Harry\"\"\",male,,0,0,A/5 2466,8.05,,S\r",
      "\r\n",
      "352,0,1,\"Williams-Lambert, Mr. Fletcher Fellows\",male,,0,0,113510,35,C128,S\r",
      "\r\n",
      "608,1,1,\"Daniel, Mr. Robert Williams\",male,27,0,0,113804,30.5,,S\r",
      "\r\n",
      "736,0,3,\"Williams, Mr. Leslie\",male,28.5,0,0,54636,16.1,,S\r",
      "\r\n"
     ]
    }
   ],
   "source": [
    "!grep Williams data/trainTitanic.csv"
   ]
  },
  {
   "cell_type": "code",
   "execution_count": 6,
   "metadata": {},
   "outputs": [
    {
     "name": "stdout",
     "output_type": "stream",
     "text": [
      "6\r\n"
     ]
    }
   ],
   "source": [
    "!grep -c Williams data/trainTitanic.csv"
   ]
  },
  {
   "cell_type": "code",
   "execution_count": 10,
   "metadata": {},
   "outputs": [],
   "source": [
    "!grep williams data/trainTitanic.csv"
   ]
  },
  {
   "cell_type": "code",
   "execution_count": 11,
   "metadata": {},
   "outputs": [
    {
     "name": "stdout",
     "output_type": "stream",
     "text": [
      "19:18,1,2,\"Williams, Mr. Charles Eugene\",male,,0,0,244373,13,,S\r",
      "\r\n",
      "157:156,0,1,\"Williams, Mr. Charles Duane\",male,51,0,1,PC 17597,61.3792,,C\r",
      "\r\n",
      "306:305,0,3,\"Williams, Mr. Howard Hugh \"\"Harry\"\"\",male,,0,0,A/5 2466,8.05,,S\r",
      "\r\n",
      "353:352,0,1,\"Williams-Lambert, Mr. Fletcher Fellows\",male,,0,0,113510,35,C128,S\r",
      "\r\n",
      "609:608,1,1,\"Daniel, Mr. Robert Williams\",male,27,0,0,113804,30.5,,S\r",
      "\r\n",
      "737:736,0,3,\"Williams, Mr. Leslie\",male,28.5,0,0,54636,16.1,,S\r",
      "\r\n"
     ]
    }
   ],
   "source": [
    "!grep -i -n williams data/trainTitanic.csv"
   ]
  },
  {
   "cell_type": "markdown",
   "metadata": {},
   "source": [
    "Similar to cut, we also have a paste command. "
   ]
  },
  {
   "cell_type": "code",
   "execution_count": 13,
   "metadata": {},
   "outputs": [
    {
     "name": "stdout",
     "output_type": "stream",
     "text": [
      "Autumn,Spring 2\r\n",
      ",Spring 3\r\n"
     ]
    }
   ],
   "source": [
    "!paste -d, data/seasonal/backup/autumn.txt data/seasonal/backup/spring.txt"
   ]
  },
  {
   "cell_type": "markdown",
   "metadata": {},
   "source": [
    "** Redirecting output to a file **"
   ]
  },
  {
   "cell_type": "code",
   "execution_count": 15,
   "metadata": {},
   "outputs": [],
   "source": [
    "!tail -n 10 data/trainTitanic.csv > data/titanicTail.csv"
   ]
  },
  {
   "cell_type": "code",
   "execution_count": 16,
   "metadata": {},
   "outputs": [
    {
     "name": "stdout",
     "output_type": "stream",
     "text": [
      "882,0,3,\"Markun, Mr. Johann\",male,33,0,0,349257,7.8958,,S\r",
      "\r\n",
      "883,0,3,\"Dahlberg, Miss. Gerda Ulrika\",female,22,0,0,7552,10.5167,,S\r",
      "\r\n",
      "884,0,2,\"Banfield, Mr. Frederick James\",male,28,0,0,C.A./SOTON 34068,10.5,,S\r",
      "\r\n",
      "885,0,3,\"Sutehall, Mr. Henry Jr\",male,25,0,0,SOTON/OQ 392076,7.05,,S\r",
      "\r\n",
      "886,0,3,\"Rice, Mrs. William (Margaret Norton)\",female,39,0,5,382652,29.125,,Q\r",
      "\r\n",
      "887,0,2,\"Montvila, Rev. Juozas\",male,27,0,0,211536,13,,S\r",
      "\r\n",
      "888,1,1,\"Graham, Miss. Margaret Edith\",female,19,0,0,112053,30,B42,S\r",
      "\r\n",
      "889,0,3,\"Johnston, Miss. Catherine Helen \"\"Carrie\"\"\",female,,1,2,W./C. 6607,23.45,,S\r",
      "\r\n",
      "890,1,1,\"Behr, Mr. Karl Howell\",male,26,0,0,111369,30,C148,C\r",
      "\r\n",
      "891,0,3,\"Dooley, Mr. Patrick\",male,32,0,0,370376,7.75,,Q\r",
      "\r\n"
     ]
    }
   ],
   "source": [
    "cat data/titanicTail.csv"
   ]
  },
  {
   "cell_type": "markdown",
   "metadata": {},
   "source": [
    "** Getting lines from the middle of the file ** \n",
    "\n",
    "Suppose you want to get lines from the middle of a file. More specifically, suppose you want to get lines 3-5 from one of our data files. You can start by using head to get the first 5 lines and redirect that to a file, and then use tail to select the last 3. \n",
    "\n",
    "head -n 5 sesaonal/winter.csv > top.csv\n",
    "\n",
    "tail -n 3 top.csv"
   ]
  },
  {
   "cell_type": "markdown",
   "metadata": {},
   "source": [
    "**Using pipe**\n",
    "\n",
    "Pass the ouput of one command to another."
   ]
  },
  {
   "cell_type": "code",
   "execution_count": 27,
   "metadata": {},
   "outputs": [
    {
     "name": "stdout",
     "output_type": "stream",
     "text": [
      "Survived,Pclass,Name,Sex,Age,Parch\r\n",
      "0,3,\"Braund, Mr. Owen Harris\",male,1\r\n",
      "0,3,\"Allen, Mr. William Henry\",male,0\r\n",
      "0,3,\"Moran, Mr. James\",male,0\r\n",
      "0,1,\"McCarthy, Mr. Timothy J\",male,0\r\n",
      "0,3,\"Palsson, Master. Gosta Leonard\",male,3\r\n",
      "0,3,\"Saundercock, Mr. William Henry\",male,0\r\n",
      "0,3,\"Andersson, Mr. Anders Johan\",male,1\r\n",
      "0,3,\"Rice, Master. Eugene\",male,4\r\n",
      "1,2,\"Williams, Mr. Charles Eugene\",male,0\r\n"
     ]
    }
   ],
   "source": [
    "!cut -d, -f 2-6,8 data/trainTitanic.csv | grep -v female | head -n 10 "
   ]
  },
  {
   "cell_type": "code",
   "execution_count": 32,
   "metadata": {},
   "outputs": [
    {
     "name": "stdout",
     "output_type": "stream",
     "text": [
      "PassengerId,Survived,Pclass,Name,Sex,Age,SibSp,Parch,Ticket,Fare,Cabin,Embarked\r",
      "\r\n",
      "1,0,3,\"Braund, Mr. Owen Harris\",male,22,1,0,A/5 21171,7.25,,S\r",
      "\r\n",
      "5,0,3,\"Allen, Mr. William Henry\",male,35,0,0,373450,8.05,,S\r",
      "\r\n",
      "6,0,3,\"Moran, Mr. James\",male,,0,0,330877,8.4583,,Q\r",
      "\r\n",
      "7,0,1,\"McCarthy, Mr. Timothy J\",male,54,0,0,17463,51.8625,E46,S\r",
      "\r\n",
      "8,0,3,\"Palsson, Master. Gosta Leonard\",male,2,3,1,349909,21.075,,S\r",
      "\r\n",
      "13,0,3,\"Saundercock, Mr. William Henry\",male,20,0,0,A/5. 2151,8.05,,S\r",
      "\r\n",
      "14,0,3,\"Andersson, Mr. Anders Johan\",male,39,1,5,347082,31.275,,S\r",
      "\r\n",
      "17,0,3,\"Rice, Master. Eugene\",male,2,4,1,382652,29.125,,Q\r",
      "\r\n",
      "18,1,2,\"Williams, Mr. Charles Eugene\",male,,0,0,244373,13,,S\r",
      "\r\n"
     ]
    }
   ],
   "source": [
    "!cut -f 2-6,8 data/trainTitanic.csv | grep -v female | head -n 10 "
   ]
  },
  {
   "cell_type": "code",
   "execution_count": 36,
   "metadata": {},
   "outputs": [
    {
     "name": "stdout",
     "output_type": "stream",
     "text": [
      "PassengerId,Survived,Pclass,Name,Sex,Age,SibSp,Parch,Ticket,Fare,Cabin,Embarked\r",
      "\r\n",
      "1,0,3,\"Braund, Mr. Owen Harris\",male,22,1,0,A/5 21171,7.25,,S\r",
      "\r\n",
      "5,0,3,\"Allen, Mr. William Henry\",male,35,0,0,373450,8.05,,S\r",
      "\r\n",
      "6,0,3,\"Moran, Mr. James\",male,,0,0,330877,8.4583,,Q\r",
      "\r\n"
     ]
    }
   ],
   "source": [
    "!cut -f 8 data/trainTitanic.csv | grep -v female | head -n 4"
   ]
  },
  {
   "cell_type": "code",
   "execution_count": 37,
   "metadata": {},
   "outputs": [
    {
     "name": "stdout",
     "output_type": "stream",
     "text": [
      "Parch\r\n",
      "1\r\n",
      "1\r\n",
      "0\r\n"
     ]
    }
   ],
   "source": [
    "!cut -d, -f 8 data/trainTitanic.csv | grep -v female | head -n 4"
   ]
  },
  {
   "cell_type": "markdown",
   "metadata": {},
   "source": [
    "Note how specifying the delimiter based on the file format is important"
   ]
  },
  {
   "cell_type": "markdown",
   "metadata": {},
   "source": [
    "**Word count**\n",
    "\n",
    "wc prints the number of characters, words, or lines in the file using the flags -c, -w, or -l respectively. \n",
    "\n",
    "Let's count how many females passengers there are in the titanic dataset. "
   ]
  },
  {
   "cell_type": "code",
   "execution_count": 39,
   "metadata": {},
   "outputs": [
    {
     "name": "stdout",
     "output_type": "stream",
     "text": [
      "     314\r\n"
     ]
    }
   ],
   "source": [
    "!grep female data/trainTitanic.csv | wc -l"
   ]
  },
  {
   "cell_type": "code",
   "execution_count": 40,
   "metadata": {},
   "outputs": [
    {
     "name": "stdout",
     "output_type": "stream",
     "text": [
      "     892\r\n"
     ]
    }
   ],
   "source": [
    "cat data/trainTitanic.csv | wc -l"
   ]
  },
  {
   "cell_type": "code",
   "execution_count": 41,
   "metadata": {},
   "outputs": [
    {
     "name": "stdout",
     "output_type": "stream",
     "text": [
      "     891\r\n"
     ]
    }
   ],
   "source": [
    "!grep male data/trainTitanic.csv | wc -l"
   ]
  },
  {
   "cell_type": "markdown",
   "metadata": {},
   "source": [
    "Note that grep male gives all the records because the word 'female' has 'male' in it as well. cat gives one row extra because it counts the header row as well.   "
   ]
  },
  {
   "cell_type": "markdown",
   "metadata": {},
   "source": [
    "**Using multiple files ** "
   ]
  },
  {
   "cell_type": "code",
   "execution_count": 42,
   "metadata": {},
   "outputs": [
    {
     "name": "stdout",
     "output_type": "stream",
     "text": [
      "==> data/trainTitanic.csv <==\r\n",
      "PassengerId,Survived,Pclass,Name,Sex,Age,SibSp,Parch,Ticket,Fare,Cabin,Embarked\r",
      "\r\n",
      "1,0,3,\"Braund, Mr. Owen Harris\",male,22,1,0,A/5 21171,7.25,,S\r",
      "\r\n",
      "2,1,1,\"Cumings, Mrs. John Bradley (Florence Briggs Thayer)\",female,38,1,0,PC 17599,71.2833,C85,C\r",
      "\r\n",
      "3,1,3,\"Heikkinen, Miss. Laina\",female,26,0,0,STON/O2. 3101282,7.925,,S\r",
      "\r\n",
      "\r\n",
      "==> data/sp500.csv <==\r\n",
      "Date,Open,High,Low,Close,Volume,Adj Close\r\n",
      "2015-01-02,2058.899902,2072.360107,2046.040039,2058.199951,2708700000,2058.199951\r\n",
      "2015-01-05,2054.439941,2054.439941,2017.339966,2020.5799559999998,3799120000,2020.5799559999998\r\n",
      "2015-01-06,2022.1500239999998,2030.25,1992.439941,2002.609985,4460110000,2002.609985\r\n"
     ]
    }
   ],
   "source": [
    "!head -n 4 data/trainTitanic.csv data/sp500.csv "
   ]
  },
  {
   "cell_type": "code",
   "execution_count": 43,
   "metadata": {},
   "outputs": [
    {
     "name": "stdout",
     "output_type": "stream",
     "text": [
      "==> data/seasonal <==\r\n",
      "head: Error reading data/seasonal\r\n",
      "\r\n",
      "==> data/seasonal2 <==\r\n",
      "head: Error reading data/seasonal2\r\n",
      "\r\n",
      "==> data/sp500.csv <==\r\n",
      "Date,Open,High,Low,Close,Volume,Adj Close\r\n",
      "2015-01-02,2058.899902,2072.360107,2046.040039,2058.199951,2708700000,2058.199951\r\n",
      "2015-01-05,2054.439941,2054.439941,2017.339966,2020.5799559999998,3799120000,2020.5799559999998\r\n",
      "2015-01-06,2022.1500239999998,2030.25,1992.439941,2002.609985,4460110000,2002.609985\r\n",
      "\r\n",
      "==> data/titanicTail.csv <==\r\n",
      "882,0,3,\"Markun, Mr. Johann\",male,33,0,0,349257,7.8958,,S\r",
      "\r\n",
      "883,0,3,\"Dahlberg, Miss. Gerda Ulrika\",female,22,0,0,7552,10.5167,,S\r",
      "\r\n",
      "884,0,2,\"Banfield, Mr. Frederick James\",male,28,0,0,C.A./SOTON 34068,10.5,,S\r",
      "\r\n",
      "885,0,3,\"Sutehall, Mr. Henry Jr\",male,25,0,0,SOTON/OQ 392076,7.05,,S\r",
      "\r\n",
      "\r\n",
      "==> data/trainTitanic.csv <==\r\n",
      "PassengerId,Survived,Pclass,Name,Sex,Age,SibSp,Parch,Ticket,Fare,Cabin,Embarked\r",
      "\r\n",
      "1,0,3,\"Braund, Mr. Owen Harris\",male,22,1,0,A/5 21171,7.25,,S\r",
      "\r\n",
      "2,1,1,\"Cumings, Mrs. John Bradley (Florence Briggs Thayer)\",female,38,1,0,PC 17599,71.2833,C85,C\r",
      "\r\n",
      "3,1,3,\"Heikkinen, Miss. Laina\",female,26,0,0,STON/O2. 3101282,7.925,,S\r",
      "\r\n"
     ]
    }
   ],
   "source": [
    "!head -n 4 data/*"
   ]
  },
  {
   "cell_type": "code",
   "execution_count": 49,
   "metadata": {},
   "outputs": [
    {
     "name": "stdout",
     "output_type": "stream",
     "text": [
      "0,3, Mr. Johann\"\r\n",
      "0,3, Miss. Gerda Ulrika\"\r\n",
      "0,2, Mr. Frederick James\"\r\n",
      "0,3, Mr. Henry Jr\"\r\n",
      "0,3, Mrs. William (Margaret Norton)\"\r\n",
      "0,2, Rev. Juozas\"\r\n",
      "1,1, Miss. Margaret Edith\"\r\n",
      "0,3, Miss. Catherine Helen \"\"Carrie\"\"\"\r\n",
      "1,1, Mr. Karl Howell\"\r\n",
      "0,3, Mr. Patrick\"\r\n",
      "Open,High,Close\r\n",
      "2058.899902,2072.360107,2058.199951\r\n",
      "2054.439941,2054.439941,2020.5799559999998\r\n",
      "2022.1500239999998,2030.25,2002.609985\r\n",
      "2005.550049,2029.609985,2025.9000239999998\r\n",
      "2030.609985,2064.080078,2062.139893\r\n",
      "2063.449951,2064.429932,2044.810059\r\n",
      "2046.130005,2049.300049,2028.2600100000002\r\n",
      "2031.5799559999998,2056.929932,2023.030029\r\n",
      "2018.4000239999998,2018.4000239999998,2011.27002\r\n",
      "2013.75,2021.3499760000002,1992.6700440000002\r\n",
      "1992.25,2020.459961,2019.4200440000002\r\n",
      "2020.7600100000002,2028.939941,2022.550049\r\n",
      "2020.189941,2038.290039,2032.119995\r\n",
      "2034.300049,2064.6201170000004,2063.149902\r\n",
      "2062.97998,2062.97998,2051.820068\r\n",
      "2050.419922,2057.6201170000004,2057.090088\r\n",
      "2047.859985,2047.859985,2029.550049\r\n",
      "2032.339966,2042.4899899999998,2002.160034\r\n",
      "2002.449951,2024.640015,2021.25\r\n",
      "2019.3499760000002,2023.319946,1994.9899899999998\r\n",
      "1996.6700440000002,2021.660034,2020.8499760000002\r\n",
      "2022.709961,2050.300049,2050.030029\r\n",
      "2048.860107,2054.73999,2041.5100100000002\r\n",
      "2043.449951,2063.550049,2062.52002\r\n",
      "2062.280029,2072.399902,2055.469971\r\n",
      "2053.469971,2056.159912,2046.7399899999998\r\n",
      "2049.3798829999996,2070.860107,2068.590088\r\n",
      "2068.550049,2073.47998,2068.530029\r\n",
      "2069.97998,2088.530029,2088.47998\r\n",
      "2088.780029,2097.030029,2096.98999\r\n",
      "2096.469971,2101.300049,2100.340088\r\n",
      "2099.159912,2100.22998,2099.679932\r\n",
      "2099.25,2102.1298829999996,2097.449951\r\n",
      "2097.649902,2110.610107,2110.300049\r\n",
      "2109.830078,2110.050049,2109.659912\r\n",
      "2109.100098,2117.939941,2115.47998\r\n",
      "2115.300049,2119.590088,2113.860107\r\n",
      "2113.909912,2113.909912,2110.73999\r\n",
      "2110.8798829999996,2112.73999,2104.5\r\n",
      "2105.22998,2117.52002,2117.389893\r\n",
      "2115.76001,2115.76001,2107.780029\r\n",
      "2107.719971,2107.719971,2098.530029\r\n",
      "2098.540039,2104.25,2101.040039\r\n",
      "2100.909912,2100.909912,2071.26001\r\n",
      "2072.25,2083.48999,2079.429932\r\n",
      "2076.139893,2076.139893,2044.160034\r\n",
      "2044.689941,2050.080078,2040.2399899999998\r\n",
      "2041.0999760000002,2066.409912,2065.949951\r\n",
      "2064.560059,2064.560059,2053.399902\r\n",
      "2055.350098,2081.409912,2081.189941\r\n",
      "2080.590088,2080.590088,2074.280029\r\n",
      "2072.840088,2106.850098,2099.5\r\n",
      "2098.689941,2098.689941,2089.27002\r\n",
      "2090.320068,2113.919922,2108.100098\r\n",
      "2107.98999,2114.860107,2104.419922\r\n",
      "2103.939941,2107.6298829999996,2091.5\r\n",
      "2093.100098,2097.429932,2061.050049\r\n",
      "2059.939941,2067.149902,2056.149902\r\n",
      "2055.780029,2062.830078,2061.02002\r\n",
      "2064.110107,2088.969971,2086.23999\r\n",
      "2084.050049,2084.050049,2067.889893\r\n",
      "2067.6298829999996,2067.6298829999996,2059.689941\r\n",
      "2060.030029,2072.169922,2066.959961\r\n",
      "2064.8701170000004,2086.98999,2080.6201170000004\r\n",
      "2080.790039,2089.810059,2076.330078\r\n",
      "2076.939941,2086.689941,2081.899902\r\n",
      "2081.290039,2093.310059,2091.179932\r\n",
      "2091.51001,2102.610107,2102.060059\r\n",
      "2102.030029,2107.649902,2092.429932\r\n",
      "2092.280029,2098.6201170000004,2095.840088\r\n",
      "2097.820068,2111.909912,2106.6298829999996\r\n",
      "2105.959961,2111.300049,2104.98999\r\n",
      "2102.580078,2102.580078,2081.179932\r\n",
      "2084.110107,2103.939941,2100.399902\r\n",
      "2102.820068,2109.639893,2097.290039\r\n",
      "2098.27002,2109.97998,2107.959961\r\n",
      "2107.209961,2120.48999,2112.929932\r\n",
      "2112.800049,2120.919922,2117.689941\r\n",
      "2119.290039,2125.919922,2108.919922\r\n",
      "2108.350098,2116.040039,2114.76001\r\n",
      "2112.48999,2113.649902,2106.850098\r\n",
      "2105.52002,2105.52002,2085.51001\r\n",
      "2087.3798829999996,2108.409912,2108.290039\r\n",
      "2110.22998,2120.949951,2114.48999\r\n",
      "2112.6298829999996,2115.23999,2089.459961\r\n",
      "2091.26001,2098.419922,2080.149902\r\n",
      "2079.959961,2092.899902,2088.0\r\n",
      "2092.1298829999996,2117.659912,2116.100098\r\n",
      "2115.560059,2117.689941,2105.330078\r\n",
      "2102.8701170000004,2105.060059,2099.1201170000004\r\n",
      "2099.6201170000004,2110.189941,2098.47998\r\n",
      "2100.429932,2121.449951,2121.100098\r\n",
      "2122.070068,2123.889893,2122.72998\r\n",
      "2121.300049,2131.780029,2129.199951\r\n",
      "2129.449951,2133.02002,2127.830078\r\n",
      "2127.790039,2134.719971,2125.850098\r\n",
      "2125.550049,2134.280029,2130.820068\r\n",
      "2130.360107,2132.149902,2126.060059\r\n",
      "2125.340088,2125.340088,2104.199951\r\n",
      "2105.1298829999996,2126.219971,2123.47998\r\n",
      "2122.27002,2122.27002,2120.790039\r\n",
      "2120.659912,2120.659912,2107.389893\r\n",
      "2108.639893,2119.149902,2111.72998\r\n",
      "2110.409912,2117.590088,2109.600098\r\n",
      "2110.639893,2121.919922,2114.070068\r\n",
      "2112.350098,2112.889893,2095.840088\r\n",
      "2095.090088,2100.98999,2092.830078\r\n",
      "2092.340088,2093.01001,2079.280029\r\n",
      "2079.070068,2085.6201170000004,2080.149902\r\n",
      "2081.1201170000004,2108.5,2105.199951\r\n",
      "2106.23999,2115.02002,2108.860107\r\n",
      "2107.429932,2107.429932,2094.110107\r\n",
      "2091.340088,2091.340088,2084.429932\r\n",
      "2084.26001,2097.399902,2096.290039\r\n",
      "2097.399902,2106.790039,2100.439941\r\n",
      "2101.580078,2126.649902,2121.23999\r\n",
      "2121.060059,2121.639893,2109.98999\r\n",
      "2112.5,2129.8701170000004,2122.850098\r\n",
      "2123.159912,2128.030029,2124.199951\r\n",
      "2123.649902,2125.100098,2108.580078\r\n",
      "2109.959961,2116.040039,2102.310059\r\n",
      "2102.6201170000004,2108.919922,2101.48999\r\n",
      "2098.6298829999996,2098.6298829999996,2057.639893\r\n",
      "2061.189941,2074.280029,2063.110107\r\n",
      "2067.0,2082.780029,2077.419922\r\n",
      "2078.030029,2085.060059,2076.780029\r\n",
      "2073.949951,2078.610107,2068.76001\r\n",
      "2069.52002,2083.73999,2081.340088\r\n",
      "2077.659912,2077.659912,2046.680054\r\n",
      "2049.72998,2074.280029,2051.310059\r\n",
      "2052.73999,2081.310059,2076.6201170000004\r\n",
      "2080.030029,2100.669922,2099.600098\r\n",
      "2099.719971,2111.97998,2108.949951\r\n",
      "2109.01001,2114.139893,2107.399902\r\n",
      "2110.550049,2124.419922,2124.290039\r\n",
      "2126.800049,2128.909912,2126.639893\r\n",
      "2126.850098,2132.820068,2128.280029\r\n",
      "2127.550049,2128.48999,2119.209961\r\n",
      "2118.209961,2118.51001,2114.149902\r\n",
      "2114.159912,2116.8701170000004,2102.149902\r\n",
      "2102.23999,2106.01001,2079.649902\r\n",
      "2078.189941,2078.189941,2067.639893\r\n",
      "2070.75,2095.600098,2093.25\r\n",
      "2094.699951,2110.600098,2108.570068\r\n",
      "2106.780029,2110.47998,2108.6298829999996\r\n",
      "2111.600098,2114.23999,2103.840088\r\n",
      "2104.48999,2105.699951,2098.040039\r\n",
      "2097.679932,2102.51001,2093.320068\r\n",
      "2095.27002,2112.659912,2099.840088\r\n",
      "2100.75,2103.320068,2083.560059\r\n",
      "2082.610107,2082.610107,2077.570068\r\n",
      "2080.97998,2105.350098,2104.179932\r\n",
      "2102.659912,2102.659912,2084.070068\r\n",
      "2081.100098,2089.060059,2086.050049\r\n",
      "2086.189941,2092.929932,2083.389893\r\n",
      "2083.149902,2092.449951,2091.540039\r\n",
      "2089.699951,2102.8701170000004,2102.439941\r\n",
      "2101.98999,2103.469971,2096.919922\r\n",
      "2095.689941,2096.169922,2079.610107\r\n",
      "2076.610107,2076.610107,2035.72998\r\n",
      "2034.0799559999998,2034.0799559999998,1970.890015\r\n",
      "1965.1500239999998,1965.1500239999998,1893.209961\r\n",
      "1898.0799559999998,1948.040039,1867.609985\r\n",
      "1872.75,1943.089966,1940.5100100000002\r\n",
      "1942.77002,1989.5999760000002,1987.660034\r\n",
      "1986.060059,1993.47998,1988.869995\r\n",
      "1986.72998,1986.72998,1972.180054\r\n",
      "1970.089966,1970.089966,1913.8499760000002\r\n",
      "1916.52002,1948.910034,1948.859985\r\n",
      "1950.790039,1975.0100100000002,1951.130005\r\n",
      "1947.7600100000002,1947.7600100000002,1921.219971\r\n",
      "1927.300049,1970.4200440000002,1969.410034\r\n",
      "1971.449951,1988.630005,1942.040039\r\n",
      "1941.589966,1965.290039,1952.290039\r\n",
      "1951.449951,1961.050049,1961.050049\r\n",
      "1963.060059,1963.060059,1953.030029\r\n",
      "1955.0999760000002,1983.189941,1978.089966\r\n",
      "1978.02002,1997.2600100000002,1995.310059\r\n",
      "1995.3299559999998,2020.859985,1990.199951\r\n",
      "1989.660034,1989.660034,1958.030029\r\n",
      "1960.839966,1979.640015,1966.969971\r\n",
      "1961.390015,1961.390015,1942.7399899999998\r\n",
      "1943.2399899999998,1949.52002,1938.7600100000002\r\n",
      "1934.810059,1937.1700440000002,1932.2399899999998\r\n",
      "1935.930054,1952.890015,1931.339966\r\n",
      "1929.180054,1929.180054,1881.77002\r\n",
      "1881.9000239999998,1899.47998,1884.089966\r\n",
      "1887.140015,1920.530029,1920.030029\r\n",
      "1919.6500239999998,1927.209961,1923.819946\r\n",
      "1921.77002,1951.359985,1951.359985\r\n",
      "1954.3299559999998,1989.1700440000002,1987.050049\r\n",
      "1986.630005,1991.619995,1979.9200440000002\r\n",
      "1982.339966,1999.310059,1995.8299559999998\r\n",
      "1994.0100100000002,2016.5,2013.430054\r\n",
      "2013.72998,2020.130005,2014.890015\r\n",
      "2015.6500239999998,2018.660034,2017.459961\r\n",
      "2015.0,2022.339966,2003.689941\r\n",
      "2003.660034,2009.560059,1994.2399899999998\r\n",
      "1996.469971,2024.1500239999998,2023.859985\r\n",
      "2024.369995,2033.540039,2033.109985\r\n",
      "2031.72998,2034.449951,2033.660034\r\n",
      "2033.130005,2039.119995,2030.77002\r\n",
      "2033.469971,2037.969971,2018.939941\r\n",
      "2021.880005,2055.199951,2052.51001\r\n",
      "2058.189941,2079.73999,2075.149902\r\n",
      "2075.080078,2075.139893,2071.179932\r\n",
      "2068.75,2070.3701170000004,2065.889893\r\n",
      "2066.47998,2090.350098,2090.350098\r\n",
      "2088.350098,2092.52002,2089.409912\r\n",
      "2090.0,2094.320068,2079.360107\r\n",
      "2080.76001,2106.199951,2104.050049\r\n",
      "2102.6298829999996,2116.47998,2109.790039\r\n",
      "2110.600098,2114.590088,2102.310059\r\n",
      "2101.679932,2108.780029,2099.929932\r\n",
      "2098.600098,2101.909912,2099.199951\r\n",
      "2096.560059,2096.560059,2078.580078\r\n",
      "2077.189941,2083.669922,2081.719971\r\n",
      "2083.409912,2086.939941,2075.0\r\n",
      "2072.290039,2072.290039,2045.969971\r\n",
      "2044.640015,2044.640015,2023.040039\r\n",
      "2022.0799559999998,2053.219971,2053.189941\r\n",
      "2053.669922,2066.689941,2050.439941\r\n",
      "2051.98999,2085.310059,2083.580078\r\n",
      "2083.699951,2086.73999,2081.23999\r\n",
      "2082.820068,2097.060059,2089.169922\r\n",
      "2089.409912,2095.610107,2086.590088\r\n",
      "2084.419922,2094.1201170000004,2089.139893\r\n",
      "2089.300049,2093.0,2088.8701170000004\r\n",
      "2088.820068,2093.290039,2090.110107\r\n",
      "2090.949951,2093.810059,2080.409912\r\n",
      "2082.929932,2103.3701170000004,2102.6298829999996\r\n",
      "2101.709961,2104.27002,2079.51001\r\n",
      "2080.709961,2085.0,2049.6201170000004\r\n",
      "2051.23999,2093.840088,2091.689941\r\n",
      "2090.419922,2090.419922,2077.070068\r\n",
      "2073.389893,2073.850098,2063.590088\r\n",
      "2061.169922,2080.330078,2047.619995\r\n",
      "2047.930054,2067.649902,2052.22998\r\n",
      "2047.27002,2047.27002,2012.369995\r\n",
      "2013.369995,2022.9200440000002,2021.939941\r\n",
      "2025.550049,2053.8701170000004,2043.410034\r\n",
      "2046.5,2076.719971,2073.070068\r\n",
      "2073.76001,2076.3701170000004,2041.890015\r\n",
      "2040.810059,2040.810059,2005.550049\r\n",
      "2010.27002,2022.9000239999998,2021.1500239999998\r\n",
      "2023.1500239999998,2042.7399899999998,2038.969971\r\n",
      "2042.199951,2064.72998,2064.290039\r\n",
      "2063.52002,2067.360107,2060.98999\r\n",
      "2057.77002,2057.77002,2056.5\r\n",
      "2060.540039,2081.560059,2078.360107\r\n",
      "2077.340088,2077.340088,2063.360107\r\n",
      "2060.590088,2062.540039,2043.939941\r\n"
     ]
    }
   ],
   "source": [
    "!cut -d, -f 2-3,5 data/titanicTail.csv data/sp500.csv"
   ]
  },
  {
   "cell_type": "markdown",
   "metadata": {},
   "source": [
    "**Wild cards**\n",
    "\n",
    "Apart from * , there are following wildcards in shell. \n",
    "\n",
    "? matches a single character, so 201?.txt will match 2017.txt or 2018.txt, but not 2017-01.txt.\n",
    "\n",
    "[...] matches any one of the characters inside the square brackets, so 201[78].txt matches 2017.txt or 2018.txt, but not 2016.txt.\n",
    "\n",
    "{...} matches any of the command-separated patterns inside the curly brackets, so {*.txt, *.csv} matches any file whose name ends with .txt or .csv, but not files whose names end with .pdf"
   ]
  },
  {
   "cell_type": "code",
   "execution_count": null,
   "metadata": {
    "collapsed": true
   },
   "outputs": [],
   "source": []
  }
 ],
 "metadata": {
  "kernelspec": {
   "display_name": "Python 3",
   "language": "python",
   "name": "python3"
  },
  "language_info": {
   "codemirror_mode": {
    "name": "ipython",
    "version": 3
   },
   "file_extension": ".py",
   "mimetype": "text/x-python",
   "name": "python",
   "nbconvert_exporter": "python",
   "pygments_lexer": "ipython3",
   "version": "3.6.3"
  }
 },
 "nbformat": 4,
 "nbformat_minor": 2
}
